{
 "cells": [
  {
   "cell_type": "markdown",
   "metadata": {},
   "source": [
    "1. Taban kenar uzunluğu 5 cm, Yükseklik uzunluğu 10 cm olan üçgenin alanını hesaplayınız."
   ]
  },
  {
   "cell_type": "code",
   "execution_count": 1,
   "metadata": {},
   "outputs": [
    {
     "name": "stdout",
     "output_type": "stream",
     "text": [
      "25.0\n"
     ]
    }
   ],
   "source": [
    "taban_kenar = 5\n",
    "yukseklik = 10 \n",
    "alan = (taban_kenar * yukseklik) / 2 \n",
    "print(alan)"
   ]
  },
  {
   "cell_type": "markdown",
   "metadata": {},
   "source": [
    "2. Yarıçapı 7 cm olan dairenin çevresini hesaplayınız. (π = 3)"
   ]
  },
  {
   "cell_type": "code",
   "execution_count": 10,
   "metadata": {},
   "outputs": [
    {
     "name": "stdout",
     "output_type": "stream",
     "text": [
      " Yaricapi 7 cm olan dairenin cevresi 43.98 cm'dir.\n"
     ]
    }
   ],
   "source": [
    "import math\n",
    "yari_cap = 7\n",
    "dairenin_cevresi = 2 * math.pi * yari_cap\n",
    "print(f\" Yaricapi {yari_cap} cm olan dairenin cevresi {round(dairenin_cevresi, 2)} cm'dir.\")"
   ]
  },
  {
   "cell_type": "markdown",
   "metadata": {},
   "source": [
    "3. Bir dikdörtgenin uzun kenarı 8 cm, kısa kenarı 5 cm'dir. Dikdörgenin alanı kaç cm²'dir?"
   ]
  },
  {
   "cell_type": "code",
   "execution_count": 8,
   "metadata": {},
   "outputs": [
    {
     "name": "stdout",
     "output_type": "stream",
     "text": [
      "Uzun kenarı 8 cm, Kısa kenarı 5 olan dikdörtgenin alanı 40 cm2'dir.\n"
     ]
    }
   ],
   "source": [
    "# DİKTÖRTGEN ALAN SORUSU\n",
    "uzun_kenar = 8\n",
    "kisa_kenar = 5\n",
    "alan = uzun_kenar * kisa_kenar\n",
    "print(f\"Uzun kenarı {uzun_kenar} cm, Kısa kenarı {kisa_kenar} olan dikdörtgenin alanı {alan} cm²'dir.\")"
   ]
  },
  {
   "cell_type": "markdown",
   "metadata": {},
   "source": [
    "4. 1'den 10 a kadar olan sayıların karesini ekrana yazdırın."
   ]
  },
  {
   "cell_type": "code",
   "execution_count": 11,
   "metadata": {},
   "outputs": [
    {
     "name": "stdout",
     "output_type": "stream",
     "text": [
      "Girmis olduğunuz sayinin karesi 64'dir.\n"
     ]
    }
   ],
   "source": [
    "sayi = int(input(\"lütfen 1 ile 10 arasında bir sayı giriniz: \"))\n",
    "sayinin_karesi = sayi **2\n",
    "print(f\"Girmis olduğunuz sayinin karesi {sayinin_karesi}'dir.\")\n"
   ]
  },
  {
   "cell_type": "code",
   "execution_count": 48,
   "metadata": {},
   "outputs": [
    {
     "name": "stdout",
     "output_type": "stream",
     "text": [
      "1 degerinin karesi 1'dir.\n",
      "2 degerinin karesi 4'dir.\n",
      "3 degerinin karesi 9'dir.\n",
      "4 degerinin karesi 16'dir.\n",
      "5 degerinin karesi 25'dir.\n"
     ]
    }
   ],
   "source": [
    "sayi = 1 \n",
    "print(f\"{sayi} degerinin karesi {sayi  ** 2}'dir.\")\n",
    "print(f\"{sayi + 1} degerinin karesi {(sayi + 1)  ** 2}'dir.\")\n",
    "print(f\"{sayi + 2} degerinin karesi {(sayi + 2)  ** 2}'dir.\")\n",
    "print(f\"{sayi + 3} degerinin karesi {(sayi + 3)  ** 2}'dir.\")\n",
    "print(f\"{sayi + 4} degerinin karesi {(sayi + 4)  ** 2}'dir.\")\n",
    "\n"
   ]
  },
  {
   "cell_type": "markdown",
   "metadata": {},
   "source": [
    "5. a=10, b=20 dir. a ile b değerlerinin yerini değiştirip sonuç olarak a=20 ve b=10 elde etmek için gerekli algoritmayı oluşturup python kodlarını yazınız. Not: Yeniden değer atamadan yapınız."
   ]
  },
  {
   "cell_type": "code",
   "execution_count": 15,
   "metadata": {},
   "outputs": [
    {
     "name": "stdout",
     "output_type": "stream",
     "text": [
      "a = 20 ve b = 10 \n"
     ]
    }
   ],
   "source": [
    "a = 10\n",
    "b = 20\n",
    "islem1 = a + 10\n",
    "islem2 = b - 10\n",
    "\n",
    "print(f\"a = {islem1} ve b = {islem2} \")\n"
   ]
  },
  {
   "cell_type": "markdown",
   "metadata": {},
   "source": [
    "6. Yaş Hesaplama:\n",
    "\n",
    "Kullanıcıdan doğum yılını alarak yaşını hesaplayın ve farklı veri tipleri ile işlem yapın."
   ]
  },
  {
   "cell_type": "code",
   "execution_count": 16,
   "metadata": {},
   "outputs": [
    {
     "name": "stdout",
     "output_type": "stream",
     "text": [
      "Su anda 44 yasindasiniz.\n"
     ]
    }
   ],
   "source": [
    "dogum_yili = int(input(\"lutfen dogum yilinizi giriniz: \"))\n",
    "kullanici_yasi = 2024 - dogum_yili\n",
    "print(f\"Su anda {kullanici_yasi} yasindasiniz.\")"
   ]
  },
  {
   "cell_type": "markdown",
   "metadata": {},
   "source": [
    "7. Vücut Kitle İndeksi (BMI) Hesaplama:\n",
    "\n",
    "Kullanıcıdan kilo ve boy bilgilerini alarak BMI hesaplayın ve sonucu yuvarlayarak ekrana yazdırın."
   ]
  },
  {
   "cell_type": "code",
   "execution_count": 17,
   "metadata": {},
   "outputs": [
    {
     "name": "stdout",
     "output_type": "stream",
     "text": [
      " Kilosu 81 kg ve boyu 1.78 olan bir elemanın VKI'si yani vücut kitle indeksi 25.56'dir.\n"
     ]
    }
   ],
   "source": [
    "agirlik = int(input(\" Lutfen vucut agirliğinizi kilogram (kg) cinsinden giriniz: \"))\n",
    "boy = float(input(\" Lutfen boyunuzu metre cm cinsinden giriniz (örneğin 1 metre 80 cm için 1.80): \"))\n",
    "vucut_kitle_indeksi = body_mass_index = vki = bmi = agirlik / (boy ** 2)\n",
    "print(f\" Kilosu {agirlik} kg ve boyu {boy} olan bir elemanın VKI'si yani vücut kitle indeksi {round(vucut_kitle_indeksi, 2)}'dir.\")"
   ]
  },
  {
   "cell_type": "markdown",
   "metadata": {},
   "source": [
    "8. Alışveriş Faturası Hesaplama:\n",
    "\n",
    "Kullanıcıdan ürün fiyatlarını ve adetlerini alarak toplam tutarı hesaplayın."
   ]
  },
  {
   "cell_type": "code",
   "execution_count": null,
   "metadata": {},
   "outputs": [],
   "source": [
    "# Bakkalda satılan ürünler: ekmek, süt ve yumurta\n",
    "ihtiyac = input(\"Neye ihtiyaciniz vardi? Ekmek icin e, süt icin s,  \")\n",
    "adet = input(\"Kac adede ihtiyaciniz vardi? \")\n",
    "ekmek == 10 \n",
    "sut == 25\n",
    "yumurta == 25\n",
    "\n",
    "\n",
    "\n",
    "\n",
    "\n",
    "\n"
   ]
  },
  {
   "cell_type": "markdown",
   "metadata": {},
   "source": [
    "9. Döviz Çevirici:\n",
    "\n",
    "Kullanıcıdan bir miktar para alarak güncel döviz kuru ile farklı bir para birimine çevirin."
   ]
  },
  {
   "cell_type": "code",
   "execution_count": 19,
   "metadata": {},
   "outputs": [
    {
     "name": "stdout",
     "output_type": "stream",
     "text": [
      "Paraniza karsilik gelen dolar degeri 14.5, euro degeri 13.5, sterlin degeri 11.0'dir.\n"
     ]
    }
   ],
   "source": [
    "miktar = int(input(\"elinizde ne kadar tl var? \"))\n",
    "dolar = miktar * 0.029 \n",
    "euro = miktar * 0.027\n",
    "sterlin = miktar * 0.022\n",
    "print(f\"Paraniza karsilik gelen dolar degeri {dolar}, euro degeri {euro}, sterlin degeri {sterlin}'dir.\")"
   ]
  },
  {
   "cell_type": "markdown",
   "metadata": {},
   "source": [
    "10. İndirim Hesaplama:\n",
    "\n",
    "Kullanıcıdan ürünün fiyatını ve indirim yüzdesini alarak indirimli fiyatı hesaplayın."
   ]
  },
  {
   "cell_type": "code",
   "execution_count": 22,
   "metadata": {},
   "outputs": [
    {
     "name": "stdout",
     "output_type": "stream",
     "text": [
      "satın almis oldugunuz urunun indirimli fiyati 80.0'tir. \n"
     ]
    }
   ],
   "source": [
    "urun_fiyati = int(input(\"urunun fiyati nedir? \"))\n",
    "indirim_orani = int(input(\"indirim oranini yüzde cinsinden giriniz. örneğin %20 indirim için 20 yaziniz. \"))\n",
    "indirimli_fiyat = urun_fiyati - (urun_fiyati * (indirim_orani / 100))\n",
    "print(f\"satın almis oldugunuz urunun indirimli fiyati {indirimli_fiyat}'tir. \")"
   ]
  },
  {
   "cell_type": "markdown",
   "metadata": {},
   "source": [
    "11. Mesafe Dönüştürücü:\n",
    "\n",
    "Kullanıcıdan kilometre veya mil cinsinden bir mesafe alarak farklı birimlere çevirin."
   ]
  },
  {
   "cell_type": "code",
   "execution_count": 23,
   "metadata": {},
   "outputs": [
    {
     "name": "stdout",
     "output_type": "stream",
     "text": [
      "Girmis olduğunuz 152 km'nin Kara mili cinsinden karsiligi 94.47, Deniz Mili karsiligi 82.03'dir.\n"
     ]
    }
   ],
   "source": [
    "mesafe = int(input(\"cevirmek istediginiz mesafeyi giriniz. \"))\n",
    "kara_mili = mesafe / 1.609\n",
    "deniz_mili = mesafe / 1.853\n",
    "print(f\"Girmis olduğunuz {mesafe} km'nin Kara mili cinsinden karsiligi {round(kara_mili, 2)}, Deniz Mili karsiligi {round(deniz_mili, 2)}'dir.\")"
   ]
  },
  {
   "cell_type": "markdown",
   "metadata": {},
   "source": [
    "12. Kullanıcıdan bir saniye değeri girmesini isteyin. girilen saniyeyi saat dakika ve sn cinsinden yazdırın. <br><br>\n",
    "örn: 19520 sn >> 5 saat, 25 dk, 20 saniye "
   ]
  },
  {
   "cell_type": "code",
   "execution_count": 47,
   "metadata": {},
   "outputs": [
    {
     "name": "stdout",
     "output_type": "stream",
     "text": [
      "girmiş olduğunuz 120000 saniye süresi: 1 gün, 9 saat, 20 dakika, 0 saniyedir hocam.\n"
     ]
    }
   ],
   "source": [
    "saniye_input = int(input(\"saniye degeri nedir? \"))\n",
    "gun = saniye_input // 86400\n",
    "saat = (saniye_input % 86400) // 3600 \n",
    "dakika = (saniye_input % 3600) // 60\n",
    "saniye = saniye_input % 60\n",
    "print(f\"girmiş olduğunuz {saniye_input} saniye süresi: {gun} gün, {saat} saat, {dakika} dakika, {saniye} saniyedir hocam.\")  "
   ]
  },
  {
   "cell_type": "markdown",
   "metadata": {},
   "source": [
    "13. Sıcaklık Dönüştürücü:\n",
    "\n",
    "Kullanıcıdan Celsius veya Fahrenheit cinsinden bir sıcaklık alarak diğer birime çevirin."
   ]
  },
  {
   "cell_type": "code",
   "execution_count": 38,
   "metadata": {},
   "outputs": [
    {
     "name": "stdout",
     "output_type": "stream",
     "text": [
      "Girmis oldugunuz 235.0° Celsius sıcaklık derecesinin Fahrenheit degeri 455.0'dir. \n"
     ]
    }
   ],
   "source": [
    "sicaklik = float(input(\"su an memleketinizdeki sicaklik degerini giriniz. \"))\n",
    "\n",
    "fahrenheit = ((9 / 5) * sicaklik )  + 32\n",
    "\n",
    "print(f\"Girmis oldugunuz {sicaklik}° Celsius sıcaklık derecesinin Fahrenheit degeri {fahrenheit}'dir. \")\n",
    "\n",
    "# windows'ta derece işareti Alt + 0176 ile çıkıyor(muş..)"
   ]
  },
  {
   "cell_type": "markdown",
   "metadata": {},
   "source": [
    "14. Kullanıcıdan mevcut maaşı ve zam yüzdesini alarak yeni maaşı hesaplayın."
   ]
  },
  {
   "cell_type": "code",
   "execution_count": 39,
   "metadata": {},
   "outputs": [
    {
     "name": "stdout",
     "output_type": "stream",
     "text": [
      "Bir sonraki alacagin maas 1150.0 ₺'dir.\n"
     ]
    }
   ],
   "source": [
    "maash = int(input(\"mevcut maasinizi giriniz: \"))\n",
    "zam_yuzdesi = int(input(\"bu ay patron ne kadar zam verecek hocam sizlere? Yüzde yirmi için örn: 20 giriniz. \"))\n",
    "zamli_maas = maash + (maash * (zam_yuzdesi / 100 ))\n",
    "print(f\"Bir sonraki alacagin maas {zamli_maas} ₺'dir.\")"
   ]
  },
  {
   "cell_type": "markdown",
   "metadata": {},
   "source": [
    "15. İlk 100 pozitif tam sayının toplamını hesaplayın."
   ]
  },
  {
   "cell_type": "code",
   "execution_count": 44,
   "metadata": {},
   "outputs": [
    {
     "name": "stdout",
     "output_type": "stream",
     "text": [
      " ilk 1000 pozitif tam sayinin toplamı 500500'dir.\n"
     ]
    }
   ],
   "source": [
    "sayi = int(input(\"ilk kac pozitif sayinin toplamini hesaplayalim mi ekip? \"))\n",
    "toplam = (sayi * (sayi + 1)) / 2\n",
    "print(f\" ilk {sayi} pozitif tam sayinin toplamı {int(toplam)}'dir.\")\n",
    "\n",
    "# Gauss abimiz sağolsun :)"
   ]
  },
  {
   "cell_type": "code",
   "execution_count": 1,
   "metadata": {},
   "outputs": [
    {
     "data": {
      "text/plain": [
       "2.0"
      ]
     },
     "execution_count": 1,
     "metadata": {},
     "output_type": "execute_result"
    }
   ],
   "source": [
    "4 /2 "
   ]
  },
  {
   "cell_type": "code",
   "execution_count": 5,
   "metadata": {},
   "outputs": [
    {
     "data": {
      "text/plain": [
       "1.4142135623730951"
      ]
     },
     "execution_count": 5,
     "metadata": {},
     "output_type": "execute_result"
    }
   ],
   "source": [
    "pow (2 , 0.5)"
   ]
  },
  {
   "cell_type": "code",
   "execution_count": 12,
   "metadata": {},
   "outputs": [
    {
     "name": "stdout",
     "output_type": "stream",
     "text": [
      "helloaafafafaşf ajşworld\n"
     ]
    }
   ],
   "source": [
    "print(\"hello\" , \"world\", sep='aafafafaşf ajş')"
   ]
  },
  {
   "cell_type": "code",
   "execution_count": 13,
   "metadata": {},
   "outputs": [
    {
     "name": "stdout",
     "output_type": "stream",
     "text": [
      "ahmetzelihaünaldı\n"
     ]
    }
   ],
   "source": [
    "print(\"ahmet\" , \"ünaldı\", sep=\"zeliha\")"
   ]
  },
  {
   "cell_type": "code",
   "execution_count": 14,
   "metadata": {},
   "outputs": [
    {
     "name": "stdout",
     "output_type": "stream",
     "text": [
      "sedatonur lapmertonur lapünaldı\n"
     ]
    }
   ],
   "source": [
    "print(\"sedat\", \"mert\", \"ünaldı\", sep=\"onur lap\")"
   ]
  },
  {
   "cell_type": "code",
   "execution_count": 16,
   "metadata": {},
   "outputs": [
    {
     "name": "stdout",
     "output_type": "stream",
     "text": [
      "caferimemone çok tatlısınbebegim\n"
     ]
    }
   ],
   "source": [
    "print(\"caferim\", \"bebegim\", sep=\"emone çok tatlısın\")"
   ]
  },
  {
   "cell_type": "code",
   "execution_count": 19,
   "metadata": {},
   "outputs": [
    {
     "name": "stdout",
     "output_type": "stream",
     "text": [
      "hello                                         world\n"
     ]
    }
   ],
   "source": [
    "print(\"hello\", \"world\", sep=\" \" * 41)"
   ]
  },
  {
   "cell_type": "code",
   "execution_count": 31,
   "metadata": {},
   "outputs": [
    {
     "name": "stdout",
     "output_type": "stream",
     "text": [
      "arfiunaldi\n"
     ]
    }
   ],
   "source": [
    "print(\"arfi\", end=\"\")\n",
    "print(\"unaldi\")"
   ]
  },
  {
   "cell_type": "code",
   "execution_count": 32,
   "metadata": {},
   "outputs": [
    {
     "name": "stdout",
     "output_type": "stream",
     "text": [
      "ahgmetdenemeunaldi\n"
     ]
    }
   ],
   "source": [
    "print(\"ahgmet\", end=\"deneme\")\n",
    "print(\"unaldi\")"
   ]
  },
  {
   "cell_type": "code",
   "execution_count": 37,
   "metadata": {},
   "outputs": [
    {
     "name": "stdout",
     "output_type": "stream",
     "text": [
      "ahmet yaklaşı8 yıldır edremittyaşamaktadır. \n"
     ]
    }
   ],
   "source": [
    "print(\"ahmet yaklaşık \\b 8 yıldır edremitte\\b yaşamaktadır. \")"
   ]
  },
  {
   "cell_type": "code",
   "execution_count": 38,
   "metadata": {},
   "outputs": [
    {
     "name": "stdout",
     "output_type": "stream",
     "text": [
      "False\n"
     ]
    }
   ],
   "source": [
    "password = \"deneme123\"\n",
    "\n",
    "user_password = input(\"lütfen şifre giriniz. \")\n",
    "\n",
    "print(password == user_password)"
   ]
  },
  {
   "cell_type": "code",
   "execution_count": 39,
   "metadata": {},
   "outputs": [
    {
     "data": {
      "text/plain": [
       "8"
      ]
     },
     "execution_count": 39,
     "metadata": {},
     "output_type": "execute_result"
    }
   ],
   "source": [
    "8 or 0 or \"ankara\""
   ]
  },
  {
   "cell_type": "code",
   "execution_count": 40,
   "metadata": {},
   "outputs": [
    {
     "data": {
      "text/plain": [
       "3"
      ]
     },
     "execution_count": 40,
     "metadata": {},
     "output_type": "execute_result"
    }
   ],
   "source": [
    "True and 0 or False or 45 and 3 \n"
   ]
  },
  {
   "cell_type": "code",
   "execution_count": 54,
   "metadata": {},
   "outputs": [
    {
     "data": {
      "text/plain": [
       "21.1"
      ]
     },
     "execution_count": 54,
     "metadata": {},
     "output_type": "execute_result"
    }
   ],
   "source": [
    "21.1 or 31.8\n"
   ]
  },
  {
   "cell_type": "code",
   "execution_count": 56,
   "metadata": {},
   "outputs": [
    {
     "data": {
      "text/plain": [
       "True"
      ]
     },
     "execution_count": 56,
     "metadata": {},
     "output_type": "execute_result"
    }
   ],
   "source": [
    "False or not(False and \"Melisa\") "
   ]
  }
 ],
 "metadata": {
  "kernelspec": {
   "display_name": "Python 3",
   "language": "python",
   "name": "python3"
  },
  "language_info": {
   "codemirror_mode": {
    "name": "ipython",
    "version": 3
   },
   "file_extension": ".py",
   "mimetype": "text/x-python",
   "name": "python",
   "nbconvert_exporter": "python",
   "pygments_lexer": "ipython3",
   "version": "3.12.5"
  }
 },
 "nbformat": 4,
 "nbformat_minor": 2
}
