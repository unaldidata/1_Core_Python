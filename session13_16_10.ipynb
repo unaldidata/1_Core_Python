{
 "cells": [
  {
   "cell_type": "code",
   "execution_count": 3,
   "metadata": {},
   "outputs": [
    {
     "name": "stdout",
     "output_type": "stream",
     "text": [
      "1 .\n",
      "2 ..\n",
      "3 ...\n",
      "4 ....\n",
      "5 .....\n",
      "6 ......\n",
      "7 .......\n",
      "8 ........\n",
      "9 .........\n",
      "10 ..........\n"
     ]
    }
   ],
   "source": [
    "for number in range (1, 11):\n",
    "    print(number, \".\" * number )"
   ]
  },
  {
   "cell_type": "code",
   "execution_count": 4,
   "metadata": {},
   "outputs": [
    {
     "name": "stdout",
     "output_type": "stream",
     "text": [
      "0 ,0\n",
      "0 ,1\n",
      "0 ,2\n",
      "1 ,0\n",
      "1 ,1\n",
      "1 ,2\n",
      "2 ,0\n",
      "2 ,1\n",
      "2 ,2\n",
      "3 ,0\n",
      "3 ,1\n",
      "3 ,2\n",
      "4 ,0\n",
      "4 ,1\n",
      "4 ,2\n"
     ]
    }
   ],
   "source": [
    "# Bu nested loop oluyor. \n",
    "\n",
    "for x in range (5):\n",
    "    for y in range (3):\n",
    "        print(f\"{x} ,{y}\")"
   ]
  },
  {
   "cell_type": "code",
   "execution_count": 7,
   "metadata": {},
   "outputs": [
    {
     "name": "stdout",
     "output_type": "stream",
     "text": [
      "<class 'int'>\n",
      "<class 'range'>\n"
     ]
    }
   ],
   "source": [
    "print(type(5))\n",
    "print(type(range(5)))"
   ]
  },
  {
   "cell_type": "code",
   "execution_count": 12,
   "metadata": {},
   "outputs": [
    {
     "name": "stdout",
     "output_type": "stream",
     "text": [
      "A\n",
      "h\n",
      "m\n",
      "e\n",
      "t\n",
      " \n",
      "Ü\n",
      "n\n",
      "a\n",
      "l\n",
      "d\n",
      "ı\n"
     ]
    }
   ],
   "source": [
    "for x in \"Ahmet Ünaldı\":\n",
    "    print(x)"
   ]
  },
  {
   "cell_type": "code",
   "execution_count": 17,
   "metadata": {},
   "outputs": [
    {
     "name": "stdout",
     "output_type": "stream",
     "text": [
      "2\n",
      "4\n",
      "6\n",
      "8\n",
      "We have 4 even numbers.\n"
     ]
    }
   ],
   "source": [
    "count = 0\n",
    "for x in range(1, 10):\n",
    "    if x % 2 == 0:\n",
    "        count += 1 \n",
    "        print(x)\n",
    "print(f\"We have {count} even numbers.\")"
   ]
  },
  {
   "cell_type": "code",
   "execution_count": 18,
   "metadata": {},
   "outputs": [],
   "source": [
    "guess = 0\n",
    "answer = 5\n",
    "\n",
    "while answer != guess:\n",
    "    guess = int(input(\"Please make a guess: \"))\n",
    "    "
   ]
  }
 ],
 "metadata": {
  "kernelspec": {
   "display_name": "Python 3",
   "language": "python",
   "name": "python3"
  },
  "language_info": {
   "codemirror_mode": {
    "name": "ipython",
    "version": 3
   },
   "file_extension": ".py",
   "mimetype": "text/x-python",
   "name": "python",
   "nbconvert_exporter": "python",
   "pygments_lexer": "ipython3",
   "version": "3.12.5"
  }
 },
 "nbformat": 4,
 "nbformat_minor": 2
}
