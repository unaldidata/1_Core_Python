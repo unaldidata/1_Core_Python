{
 "cells": [
  {
   "cell_type": "code",
   "execution_count": 8,
   "metadata": {},
   "outputs": [
    {
     "ename": "ValueError",
     "evalue": "invalid literal for int() with base 10: 'sdnoin'",
     "output_type": "error",
     "traceback": [
      "\u001b[1;31m---------------------------------------------------------------------------\u001b[0m",
      "\u001b[1;31mValueError\u001b[0m                                Traceback (most recent call last)",
      "Cell \u001b[1;32mIn[8], line 8\u001b[0m\n\u001b[0;32m      1\u001b[0m \u001b[38;5;66;03m# Status kodunu kullanicidan aliniz, \u001b[39;00m\n\u001b[0;32m      2\u001b[0m \u001b[38;5;66;03m# eger status code  \u001b[39;00m\n\u001b[0;32m      3\u001b[0m \u001b[38;5;66;03m# 200 ise Basarili \u001b[39;00m\n\u001b[0;32m      4\u001b[0m \u001b[38;5;66;03m# 400 ise bad Request\u001b[39;00m\n\u001b[0;32m      5\u001b[0m \u001b[38;5;66;03m# 500 ise Server Error\u001b[39;00m\n\u001b[0;32m      6\u001b[0m \u001b[38;5;66;03m# yazdiran programi yazin\u001b[39;00m\n\u001b[1;32m----> 8\u001b[0m status_code \u001b[38;5;241m=\u001b[39m \u001b[38;5;28;43mint\u001b[39;49m\u001b[43m(\u001b[49m\u001b[38;5;28;43minput\u001b[39;49m\u001b[43m(\u001b[49m\u001b[38;5;124;43m'\u001b[39;49m\u001b[38;5;124;43mStatus code u giriniz.\u001b[39;49m\u001b[38;5;124;43m'\u001b[39;49m\u001b[43m)\u001b[49m\u001b[43m)\u001b[49m\n\u001b[0;32m      9\u001b[0m \u001b[38;5;28;01mif\u001b[39;00m status_code \u001b[38;5;241m==\u001b[39m \u001b[38;5;241m200\u001b[39m:\n\u001b[0;32m     10\u001b[0m     \u001b[38;5;28mprint\u001b[39m(\u001b[38;5;124m'\u001b[39m\u001b[38;5;124mBasarili\u001b[39m\u001b[38;5;124m'\u001b[39m)\n",
      "\u001b[1;31mValueError\u001b[0m: invalid literal for int() with base 10: 'sdnoin'"
     ]
    }
   ],
   "source": [
    "# Status kodunu kullanicidan aliniz, \n",
    "# eger status code  \n",
    "# 200 ise Basarili \n",
    "# 400 ise bad Request\n",
    "# 500 ise Server Error\n",
    "# yazdiran programi yazin\n",
    "\n",
    "status_code = int(input('Status code u giriniz.'))\n",
    "if status_code == 200:\n",
    "    print('Basarili')\n",
    "elif status_code == 400:\n",
    "    print('Bad request')\n",
    "elif status_code == 500:\n",
    "    print('Server Error')\n",
    "else :\n",
    "    print('200, 400 veya 500 kodlarindan birini giriniz')    \n"
   ]
  },
  {
   "cell_type": "code",
   "execution_count": null,
   "metadata": {},
   "outputs": [],
   "source": [
    "if cond:\n",
    "    if cond2:\n",
    "        statem"
   ]
  },
  {
   "cell_type": "code",
   "execution_count": 9,
   "metadata": {},
   "outputs": [
    {
     "name": "stdout",
     "output_type": "stream",
     "text": [
      "200, 400 veya 500 kodlarindan birini giriniz\n"
     ]
    }
   ],
   "source": [
    "\n",
    "status_code = input('Status code u giriniz.')\n",
    "if status_code.isnumeric():\n",
    "    status_code = int(status_code)\n",
    "    if status_code == 200:\n",
    "        print('Basarili')\n",
    "    elif status_code == 400:\n",
    "        print('Bad request')\n",
    "    elif status_code == 500:\n",
    "        print('Server Error')\n",
    "    else :\n",
    "        print('200, 400 veya 500 kodlarindan birini giriniz')  # 900\n",
    "else:\n",
    "    print('sayi giriniz') # ikiyuz        "
   ]
  },
  {
   "cell_type": "code",
   "execution_count": 11,
   "metadata": {},
   "outputs": [
    {
     "name": "stdout",
     "output_type": "stream",
     "text": [
      "200, 400 veya 500 kodlarindan birini giriniz\n"
     ]
    }
   ],
   "source": [
    "\n",
    "status_code = input('Status code u giriniz.')\n",
    "if status_code == '200':\n",
    "    print('Basarili')\n",
    "elif status_code == '400':\n",
    "    print('Bad request')\n",
    "elif status_code == '500':\n",
    "    print('Server Error')\n",
    "else :\n",
    "    print('200, 400 veya 500 kodlarindan birini giriniz')    "
   ]
  },
  {
   "cell_type": "code",
   "execution_count": null,
   "metadata": {},
   "outputs": [],
   "source": [
    "# kullanicidan bir sayi alin, \n",
    "# bu sayi 3 e bolunebiliyorsa 'Tech'\n",
    "# 5 e bolunebiliyorsa 'pro',\n",
    "# hem 5 e hem de 3 e bolunebiliyorsa 'techpro' yazdirin\n",
    "# sayi bu sartlarin hicbirisini saglamiyorsa sayinin kendisini yazdiran python kodunu yazin\n"
   ]
  },
  {
   "cell_type": "code",
   "execution_count": 16,
   "metadata": {},
   "outputs": [
    {
     "name": "stdout",
     "output_type": "stream",
     "text": [
      "pro\n"
     ]
    }
   ],
   "source": [
    "sayi = int(input('Lütfen bir sayi giriniz: '))\n",
    "if sayi % 5 == 0:\n",
    "    print('pro')\n",
    "elif sayi % 3 == 0:\n",
    "    print('Tech')\n",
    "elif sayi % 15 == 0:\n",
    "    print('Techpro')\n",
    "else:\n",
    "    print(sayi)"
   ]
  },
  {
   "cell_type": "code",
   "execution_count": 21,
   "metadata": {},
   "outputs": [
    {
     "ename": "ValueError",
     "evalue": "invalid literal for int() with base 10: 'on bes'",
     "output_type": "error",
     "traceback": [
      "\u001b[1;31m---------------------------------------------------------------------------\u001b[0m",
      "\u001b[1;31mValueError\u001b[0m                                Traceback (most recent call last)",
      "Cell \u001b[1;32mIn[21], line 1\u001b[0m\n\u001b[1;32m----> 1\u001b[0m sayi \u001b[38;5;241m=\u001b[39m \u001b[38;5;28;43mint\u001b[39;49m\u001b[43m(\u001b[49m\u001b[38;5;28;43minput\u001b[39;49m\u001b[43m(\u001b[49m\u001b[38;5;124;43m'\u001b[39;49m\u001b[38;5;124;43mLütfen bir sayi giriniz: \u001b[39;49m\u001b[38;5;124;43m'\u001b[39;49m\u001b[43m)\u001b[49m\u001b[43m)\u001b[49m\n\u001b[0;32m      2\u001b[0m \u001b[38;5;28;01mif\u001b[39;00m sayi \u001b[38;5;241m%\u001b[39m \u001b[38;5;241m15\u001b[39m \u001b[38;5;241m==\u001b[39m \u001b[38;5;241m0\u001b[39m:\n\u001b[0;32m      3\u001b[0m     \u001b[38;5;28mprint\u001b[39m(\u001b[38;5;124m'\u001b[39m\u001b[38;5;124mTechpro\u001b[39m\u001b[38;5;124m'\u001b[39m)\n",
      "\u001b[1;31mValueError\u001b[0m: invalid literal for int() with base 10: 'on bes'"
     ]
    }
   ],
   "source": [
    "sayi = int(input('Lütfen bir sayi giriniz: '))\n",
    "if sayi % 15 == 0:\n",
    "    print('Techpro')\n",
    "elif sayi % 3 == 0:\n",
    "    print('Tech')\n",
    "elif sayi % 5 == 0:\n",
    "    print('pro')\n",
    "else:\n",
    "    print(sayi)"
   ]
  },
  {
   "cell_type": "code",
   "execution_count": null,
   "metadata": {},
   "outputs": [],
   "source": []
  },
  {
   "cell_type": "code",
   "execution_count": null,
   "metadata": {},
   "outputs": [],
   "source": [
    "# Soru: Bir restoran, müşterilerine sipariş verdikleri yemeklerin toplam tutarına\n",
    "# göre servis ücreti uygulamaktadır. Toplam sipariş tutarına göre servis ücreti şu şekildedir:\n",
    "# Eğer sipariş tutarı 200 TL ve üzerindeyse, servis ücreti yoktur.\n",
    "# Eğer sipariş tutarı 100 TL ile 199 TL arasındaysa, %5 servis ücreti uygulanır.\n",
    "# Eğer sipariş tutarı 50 TL ile 99 TL arasındaysa, %10 servis ücreti uygulanır.\n",
    "# Eğer sipariş tutarı 50 TL'nin altındaysa, %15 servis ücreti uygulanır.\n",
    "# Sipariş tutarını input olarak alan ve uygulanacak servis ücretini hesaplayarak ödenecek \n",
    "#toplam tutarı ekrana yazdıran bir program yazın.\n"
   ]
  },
  {
   "cell_type": "code",
   "execution_count": 27,
   "metadata": {},
   "outputs": [
    {
     "name": "stdout",
     "output_type": "stream",
     "text": [
      "The price can not be negative\n"
     ]
    }
   ],
   "source": [
    "price = float(input(\"Please enter service fee\"))\n",
    "if price <= 0 :\n",
    "    print(\"The price can not be negative\")\n",
    "elif price >= 200 :\n",
    "    print(\"Don't charge service fee\" , \"Total : \" , price)\n",
    "elif price >= 100 :\n",
    "    print(\"Charge % 5 service fee\" , \"Total : \" , price + (price * 5 / 100)) \n",
    "elif price >= 50  :\n",
    "    print(\"Charge %10 service fee\" , \"Total : \" , price + (price * 10 / 100))\n",
    "else :\n",
    "    print(\"Charge %15 service fee\" , \"Total : \" , price + (price * 15 / 100))"
   ]
  },
  {
   "cell_type": "code",
   "execution_count": null,
   "metadata": {},
   "outputs": [],
   "source": [
    "# ## TR \n",
    "# Size iki sayı ve aşağıdaki operatörlerden biri verilecektir; \n",
    "# 'add' (topla), 'subtract' (çıkar), 'multiply' (çarp), 'divide' (böl). \n",
    "# Verilen operasyona bağlı olarak sayılar arasında uygun işlemi gerçekleştiren bir fonksiyon yazın. \n",
    "# Örneğin, eğer size 5, 7 ve 'multiply' (çarp) verilirse, 5 * 7 işlemini yapmanız ve sonucu (35) ekrana\n",
    "# yazdırmanız gerekir. Eğer kullanıcı operatörü yanlış girerse,\n",
    "# şu mesajı yazdırın: 'Lütfen operatörlerden birini seçin (add, subtract, divide, multiply)'.\n"
   ]
  },
  {
   "cell_type": "code",
   "execution_count": 23,
   "metadata": {},
   "outputs": [
    {
     "ename": "ZeroDivisionError",
     "evalue": "division by zero",
     "output_type": "error",
     "traceback": [
      "\u001b[1;31m---------------------------------------------------------------------------\u001b[0m",
      "\u001b[1;31mZeroDivisionError\u001b[0m                         Traceback (most recent call last)",
      "Cell \u001b[1;32mIn[23], line 1\u001b[0m\n\u001b[1;32m----> 1\u001b[0m \u001b[38;5;241;43m5\u001b[39;49m\u001b[43m \u001b[49m\u001b[38;5;241;43m/\u001b[39;49m\u001b[43m \u001b[49m\u001b[38;5;241;43m0\u001b[39;49m\n",
      "\u001b[1;31mZeroDivisionError\u001b[0m: division by zero"
     ]
    }
   ],
   "source": [
    "5 / 0"
   ]
  },
  {
   "cell_type": "code",
   "execution_count": 25,
   "metadata": {},
   "outputs": [
    {
     "name": "stdout",
     "output_type": "stream",
     "text": [
      "Yapmak istediğiniz işlem sonucu Bolme isleminde 2.sayi sifir olamaz\n"
     ]
    }
   ],
   "source": [
    "sayi1 = int(input(\"Birinci sayiyi girin: \"))\n",
    "sayi2 = int(input(\"İkinci sayiyi girin: \"))\n",
    "operator = input(\"Operatörü girin (add, subtract, multiply, divide): \")\n",
    "\n",
    "if operator == 'add' :\n",
    "    sonuc = sayi1 + sayi2\n",
    "elif operator == 'subtract' :\n",
    "    sonuc = sayi1 - sayi2\n",
    "elif operator == 'multiply' :\n",
    "    sonuc = sayi1 * sayi2\n",
    "elif operator == 'divide' :\n",
    "    if sayi2 != 0 :\n",
    "        sonuc = sayi1 / sayi2 \n",
    "    else:\n",
    "        sonuc = 'Bolme isleminde 2.sayi sifir olamaz'\n",
    "else :\n",
    "    'Lütfen operatörlerden birini seçin (add, subtract, divide, multiply)'\n",
    "\n",
    "\n",
    "print('Yapmak istediğiniz işlem sonucu', sonuc)"
   ]
  },
  {
   "cell_type": "code",
   "execution_count": 22,
   "metadata": {},
   "outputs": [
    {
     "data": {
      "text/plain": [
       "['jane', 'blue']"
      ]
     },
     "execution_count": 22,
     "metadata": {},
     "output_type": "execute_result"
    }
   ],
   "source": [
    "'jane blue'.split()"
   ]
  },
  {
   "cell_type": "code",
   "execution_count": null,
   "metadata": {},
   "outputs": [],
   "source": [
    "#x, y, islem= input(\"Lütfen 2 sayı ve bir operatör girin (örneğin: 6 3 +): \").split()\n",
    "\n",
    "x, y, operator = input(\"Lütfen 2 sayı ve bir operatör girin (örneğin: 5 3 +): \").split()\n",
    "x = int(x)\n",
    "y = int(y)\n",
    "if operator == '+':\n",
    "    result = x + y\n",
    "elif operator == '-':\n",
    "    result = x - y\n",
    "elif operator == '*':\n",
    "    result = x * y\n",
    "elif operator == '/':\n",
    "    result = x / y if y != 0 else 'Tanımsız'\n",
    "else:\n",
    "    result = 'Geçersiz operatör'\n",
    "print(f\"Sonuç: {result}\")"
   ]
  }
 ],
 "metadata": {
  "kernelspec": {
   "display_name": "Python 3",
   "language": "python",
   "name": "python3"
  },
  "language_info": {
   "codemirror_mode": {
    "name": "ipython",
    "version": 3
   },
   "file_extension": ".py",
   "mimetype": "text/x-python",
   "name": "python",
   "nbconvert_exporter": "python",
   "pygments_lexer": "ipython3",
   "version": "3.11.9"
  }
 },
 "nbformat": 4,
 "nbformat_minor": 2
}
