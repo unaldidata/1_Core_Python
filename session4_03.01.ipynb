{
 "cells": [
  {
   "cell_type": "code",
   "execution_count": 1,
   "metadata": {},
   "outputs": [
    {
     "data": {
      "text/plain": [
       "5.0"
      ]
     },
     "execution_count": 1,
     "metadata": {},
     "output_type": "execute_result"
    }
   ],
   "source": [
    "y = True\n",
    "5/float(y)"
   ]
  },
  {
   "cell_type": "code",
   "execution_count": 4,
   "metadata": {},
   "outputs": [
    {
     "data": {
      "text/plain": [
       "6"
      ]
     },
     "execution_count": 4,
     "metadata": {},
     "output_type": "execute_result"
    }
   ],
   "source": [
    "z = 6.9\n",
    "result = int(float(z) + float(False))\n",
    "result"
   ]
  },
  {
   "cell_type": "code",
   "execution_count": 8,
   "metadata": {},
   "outputs": [
    {
     "name": "stdout",
     "output_type": "stream",
     "text": [
      "Uçgenin alanı:  10\n"
     ]
    }
   ],
   "source": [
    "yatay_kenar = 4\n",
    "dikey_kenar = 5\n",
    "ucgen_alani = (yatay_kenar * dikey_kenar) / 2\n",
    "# dikey_kenar = 156 formülden sonra değeri değiştirmek sonucu değiştrmez çünkü yukarıdan aşağı okunur. \n",
    "print(\"Uçgenin alanı: \", int(ucgen_alani))"
   ]
  },
  {
   "cell_type": "code",
   "execution_count": 18,
   "metadata": {},
   "outputs": [],
   "source": [
    "# help(print)"
   ]
  },
  {
   "cell_type": "code",
   "execution_count": 22,
   "metadata": {},
   "outputs": [
    {
     "name": "stdout",
     "output_type": "stream",
     "text": [
      "ahmet**nennee****mehmet**nennee****yılmaz hocam\n"
     ]
    }
   ],
   "source": [
    "print(\"ahmet\", \"mehmet\", \"yılmaz hocam\", sep=\"**nennee****\")"
   ]
  },
  {
   "cell_type": "code",
   "execution_count": 23,
   "metadata": {},
   "outputs": [
    {
     "name": "stdout",
     "output_type": "stream",
     "text": [
      "hello world 🤣\n"
     ]
    }
   ],
   "source": [
    "print(\"hello world\", \"\\U0001F923\" )"
   ]
  },
  {
   "cell_type": "code",
   "execution_count": 26,
   "metadata": {},
   "outputs": [
    {
     "name": "stdout",
     "output_type": "stream",
     "text": [
      "hello world 😂\n"
     ]
    }
   ],
   "source": [
    "\n",
    "print(\"hello world\", \"\\U0001F602\" )"
   ]
  },
  {
   "cell_type": "code",
   "execution_count": 28,
   "metadata": {},
   "outputs": [
    {
     "name": "stdout",
     "output_type": "stream",
     "text": [
      "kerem_hanifedenemecemil\n"
     ]
    }
   ],
   "source": [
    "print(\"kerem\", end=\"_\")\n",
    "print(\"hanife\", end=\"deneme\")\n",
    "print(\"cemil\")"
   ]
  },
  {
   "cell_type": "code",
   "execution_count": 30,
   "metadata": {},
   "outputs": [
    {
     "name": "stdout",
     "output_type": "stream",
     "text": [
      "mert-melisa\n",
      "Burak\n",
      "anna_"
     ]
    }
   ],
   "source": [
    "print(\"mert\", \"melisa\", sep='-')\n",
    "print(\"Burak\", \"anna\", sep= '\\n', end= \"_\")"
   ]
  },
  {
   "cell_type": "code",
   "execution_count": 31,
   "metadata": {},
   "outputs": [
    {
     "name": "stdout",
     "output_type": "stream",
     "text": [
      "Ünaldı'nın adı ahmet'dir. edremit şehrinde yaşar, ve mesleği pilot'tur. Yaşı ise 44'tür. yani az biraz artık ihtiyarlamıştır.\n"
     ]
    }
   ],
   "source": [
    "name = \"ahmet\"\n",
    "city = \"edremit\"\n",
    "job = \"pilot\"\n",
    "age = 44\n",
    "\n",
    "print(f\"Ünaldı'nın adı {name}'dir. {city} şehrinde yaşar, ve mesleği {job}'tur. Yaşı ise {44}'tür. yani az biraz artık ihtiyarlamıştır.\")"
   ]
  },
  {
   "cell_type": "code",
   "execution_count": 34,
   "metadata": {},
   "outputs": [
    {
     "name": "stdout",
     "output_type": "stream",
     "text": [
      " alt kenarı 1, üst kenarı 2, ve yuksekliği 3 olan yamuğun alanı 4.5'dir hocam.\n"
     ]
    }
   ],
   "source": [
    "alt_kenar = 1\n",
    "ust_kenar = 2\n",
    "yukseklik = 3\n",
    "yamuk_alani = ((alt_kenar + ust_kenar) /2) * yukseklik \n",
    "print(f\" alt kenarı {alt_kenar}, üst kenarı {ust_kenar}, ve yuksekliği {yukseklik} olan yamuğun alanı {yamuk_alani}'dir hocam.\")"
   ]
  },
  {
   "cell_type": "markdown",
   "metadata": {},
   "source": [
    "# format "
   ]
  },
  {
   "cell_type": "code",
   "execution_count": 66,
   "metadata": {},
   "outputs": [
    {
     "ename": "SyntaxError",
     "evalue": "unterminated string literal (detected at line 5) (2807195369.py, line 5)",
     "output_type": "error",
     "traceback": [
      "\u001b[1;36m  Cell \u001b[1;32mIn[66], line 5\u001b[1;36m\u001b[0m\n\u001b[1;33m    print('alt kenarı {alt_kenar}, üst kenarı {ust_kenar}, ve yuksekliği {yukseklik} olan yamuğun alanı {yamuk_alani}'dir)'.format(alt_kenar, ust_kenar, yukseklik, yamuk_alani))\u001b[0m\n\u001b[1;37m                                                                                                                          ^\u001b[0m\n\u001b[1;31mSyntaxError\u001b[0m\u001b[1;31m:\u001b[0m unterminated string literal (detected at line 5)\n"
     ]
    }
   ],
   "source": [
    "alt_kenar = 1\n",
    "ust_kenar = 2\n",
    "yukseklik = 3\n",
    "yamuk_alani = ((alt_kenar + ust_kenar) /2) * yukseklik \n",
    "# print('alt kenarı {alt_kenar}, üst kenarı {ust_kenar}, ve yuksekliği {yukseklik} olan yamuğun alanı {yamuk_alani}'dir)'.format(alt_kenar, ust_kenar, yukseklik, yamuk_alani))"
   ]
  },
  {
   "cell_type": "code",
   "execution_count": 67,
   "metadata": {},
   "outputs": [],
   "source": [
    "age = input(\"what is your name?: \")"
   ]
  },
  {
   "cell_type": "code",
   "execution_count": 64,
   "metadata": {},
   "outputs": [
    {
     "data": {
      "text/plain": [
       "''"
      ]
     },
     "execution_count": 64,
     "metadata": {},
     "output_type": "execute_result"
    }
   ],
   "source": [
    "\n",
    "\n",
    "\n",
    "\n"
   ]
  }
 ],
 "metadata": {
  "kernelspec": {
   "display_name": "Python 3",
   "language": "python",
   "name": "python3"
  },
  "language_info": {
   "codemirror_mode": {
    "name": "ipython",
    "version": 3
   },
   "file_extension": ".py",
   "mimetype": "text/x-python",
   "name": "python",
   "nbconvert_exporter": "python",
   "pygments_lexer": "ipython3",
   "version": "3.12.5"
  }
 },
 "nbformat": 4,
 "nbformat_minor": 2
}
