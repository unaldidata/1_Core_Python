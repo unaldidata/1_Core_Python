{
 "cells": [
  {
   "cell_type": "markdown",
   "metadata": {},
   "source": [
    "# <p style=\"background-color:green;font-family:newtimeroman;font-size:200%;color:white;text-align:center;border-radius:20px 20px;\"><b>Python Interview Soruları</b></p>\n",
    "![](https://www.techproeducation.com/logo/headerlogo.svg)\n",
    "\n",
    "<b>Yeniliklerden ilk siz haberdar olmak istiyorsanız lütfen bizi takip etmeyi unutmayın </b>[YouTube](https://www.youtube.com/c/techproeducation) | [Instagram](https://www.instagram.com/techproeducation) | [Facebook](https://www.facebook.com/techproeducation) | [Telegram](https://t.me/joinchat/HH2qRvA-ulh4OWbb) | [Whatsapp](https://api.whatsapp.com/send/?phone=%2B15853042959&text&type=phone_number&app_absent=0) | [LinkedIn](https://www.linkedin.com/company/techproeducation/mycompany/) |"
   ]
  },
  {
   "cell_type": "markdown",
   "metadata": {},
   "source": [
    "# **Python Interview Soruları**"
   ]
  },
  {
   "cell_type": "markdown",
   "metadata": {},
   "source": [
    "### **1. Python nedir? Teknoloji dünyasında Python'un bazı popüler uygulamalarını örneklendirin.**\n",
    "\n"
   ]
  },
  {
   "cell_type": "markdown",
   "metadata": {},
   "source": [
    "* Python, yaygın olarak kullanılan genel amaçlı, üst düzey bir programlama dilidir.\n",
    "\n",
    "* 1991 yılında Guido van Rossum tarafından ilk defa ortaya çıkarılmış ve Python Yazılım Vakfı tarafından daha da geliştirilmiştir.\n",
    "\n",
    "* Python 1.0 sürümüne Ocak 1994'te ulaşmıştır. 2.0 sürümü 16 Ekim 2000'de yayınlanmıştır. 3 Aralık 2008 tarihinden itibaren 3.x serisi yayınlanmaya başlamıştır; ancak 3.x serisi 2.x serisiyle uyumlu değildir.\n",
    "\n",
    "* Kod okunabilirliğine vurgu yapılarak tasarlanmıştır ve sözdizimi programcıların kavramlarını daha az satır kodla ifade etmelerine olanak tanır.\n",
    "\n",
    "* Windows, Linux, UNIX ve Macintosh'ta eşit derecede iyi çalışan nesne yönelimli üst düzey bir dildir.\n",
    "\n",
    "Teknoloji dünyasında Python’un bazı popüler uygulamaları şunlardır:\n",
    "\n",
    "- **Web Geliştirme:** Django ve Flask gibi popüler web çerçeveleri sayesinde Python, web uygulamaları geliştirmede yaygın olarak kullanılır. Örneğin, YouTube ve Instagram gibi büyük platformlar Python kullanır.\n",
    "\n",
    "- **Veri Bilimi ve Makine Öğrenimi:** Pandas, NumPy, SciPy ve TensorFlow gibi kütüphanelerle Python, veri analizi ve makine öğrenimi projelerinde sıkça kullanılır.\n",
    "\n",
    "- **Oyun Geliştirme:** Pygame gibi kütüphanelerle Python, basit oyunlar geliştirmek için de kullanılabilir.\n",
    "\n",
    "- **Görüntü İşleme:** OpenCV gibi kütüphanelerle Python, görüntü işleme ve computer vision projelerinde kullanılır.\n",
    "\n",
    "- **Otomasyon:** Python, rutin görevleri otomatikleştirmek için de yaygın olarak kullanılır."
   ]
  },
  {
   "cell_type": "markdown",
   "metadata": {},
   "source": [
    "### **2. Sığ kopya (shallow copy) ile derin kopya (deep copy) arasındaki fark nedir?**"
   ]
  },
  {
   "cell_type": "markdown",
   "metadata": {},
   "source": [
    "* Python’da, bir nesneyi kopyalamak için “=” operatörü kullanılır. Ancak, bu referans tipli bir atamadır. Başka bir değişle her iki değişkenin gösterdiği adresler aynıdır. Örneğin, listeye yeni elemanlar eklediğimizde her iki liste etkilenir. \n",
    "\n",
    "* Bazen orijinal değerleri kaybetmeden değişkeninizin bir kopyasına ihtiyaç duyabilirsiniz ve tabii ki yapılan bir değişiklikle orijinal verinin bozulmasını istemezsiniz. Böyle durumlarda kopyalama kullanılır.\n",
    "\n",
    "* Sığ kopyalama işlemi değişkenin iç değerlerini referans bazlı taşır. Değişkenin kendisi farklı bir adreste yer alır.\n",
    "\n",
    "* Sığ ve derin kopyalama arasındaki fark sadece bileşik nesneler için geçerlidir (listeler veya sınıflar gibi).\n",
    "\n",
    "* Bir liste alt listeler içerdiği andan itibaren yeni bir zorluk karşımıza çıkıyor: sığ kopya ile alt listeler kopyalanmaz, ancak sadece alt listelere göndermeler işlenir. Derin kopya ile bu sorun çözülür.\n",
    "\n",
    "* Sığ bir kopya daha hızlı program yürütmeye sahipken, derin bir kopya bunu yavaşlatır.\n",
    "\n",
    "https://veridefteri.com/posts/2018/03/19/python-programlamaya-giris-18-python-referans-modeli-sig-ve-derin-kopyalama/index.html"
   ]
  },
  {
   "cell_type": "code",
   "execution_count": 1,
   "metadata": {},
   "outputs": [
    {
     "name": "stdout",
     "output_type": "stream",
     "text": [
      "4582168128 4582168128 4582240640 4582234944\n"
     ]
    }
   ],
   "source": [
    "# Assign etme ve kopyalama\n",
    "a = [1,2,3]\n",
    "b = a\n",
    "\n",
    "import copy\n",
    "c = copy.copy(a)\n",
    "d = copy.deepcopy(a)\n",
    "print(id(a), id(b), id(c), id(d)) # a ve b'nin bellek adresleri aynı"
   ]
  },
  {
   "cell_type": "code",
   "execution_count": 2,
   "metadata": {},
   "outputs": [],
   "source": [
    "b.append(4)"
   ]
  },
  {
   "cell_type": "code",
   "execution_count": 3,
   "metadata": {},
   "outputs": [
    {
     "data": {
      "text/plain": [
       "[1, 2, 3, 4]"
      ]
     },
     "execution_count": 3,
     "metadata": {},
     "output_type": "execute_result"
    }
   ],
   "source": [
    "a"
   ]
  },
  {
   "cell_type": "code",
   "execution_count": 4,
   "metadata": {},
   "outputs": [],
   "source": [
    "c.append(\"x\")"
   ]
  },
  {
   "cell_type": "code",
   "execution_count": 7,
   "metadata": {},
   "outputs": [],
   "source": [
    "d.append(\"y\")"
   ]
  },
  {
   "cell_type": "code",
   "execution_count": 6,
   "metadata": {},
   "outputs": [
    {
     "data": {
      "text/plain": [
       "[1, 2, 3, 'x']"
      ]
     },
     "execution_count": 6,
     "metadata": {},
     "output_type": "execute_result"
    }
   ],
   "source": [
    "c"
   ]
  },
  {
   "cell_type": "code",
   "execution_count": 5,
   "metadata": {},
   "outputs": [
    {
     "data": {
      "text/plain": [
       "[1, 2, 3, 4]"
      ]
     },
     "execution_count": 5,
     "metadata": {},
     "output_type": "execute_result"
    }
   ],
   "source": [
    "a"
   ]
  },
  {
   "cell_type": "code",
   "execution_count": 8,
   "metadata": {},
   "outputs": [
    {
     "data": {
      "text/plain": [
       "[1, 2, 3, 'y']"
      ]
     },
     "execution_count": 8,
     "metadata": {},
     "output_type": "execute_result"
    }
   ],
   "source": [
    "d"
   ]
  },
  {
   "cell_type": "code",
   "execution_count": 9,
   "metadata": {},
   "outputs": [
    {
     "data": {
      "text/plain": [
       "[1, 2, 3, 4]"
      ]
     },
     "execution_count": 9,
     "metadata": {},
     "output_type": "execute_result"
    }
   ],
   "source": [
    "a"
   ]
  },
  {
   "cell_type": "markdown",
   "metadata": {},
   "source": [
    "---"
   ]
  },
  {
   "cell_type": "code",
   "execution_count": 10,
   "metadata": {},
   "outputs": [],
   "source": [
    "# shallow copy - deep copy\n",
    "a = [1,2,3,[10,20,30]]\n",
    "shallow = a.copy() # shallow copy\n",
    "deep = copy.deepcopy(a) # deep copy"
   ]
  },
  {
   "cell_type": "code",
   "execution_count": 11,
   "metadata": {},
   "outputs": [
    {
     "name": "stdout",
     "output_type": "stream",
     "text": [
      "[1, 2, 3, [10, 20, 30]]\n",
      "[1, 2, 3, [10, 20, 30], 100]\n",
      "[1, 2, 3, [10, 20, 30], 200]\n"
     ]
    }
   ],
   "source": [
    "shallow.append(100)\n",
    "deep.append(200)\n",
    "print(a)\n",
    "print(shallow)\n",
    "print(deep)"
   ]
  },
  {
   "cell_type": "code",
   "execution_count": 12,
   "metadata": {},
   "outputs": [
    {
     "name": "stdout",
     "output_type": "stream",
     "text": [
      "[1, 2, 3, ['güncelle', 20, 30]]\n",
      "[1, 2, 3, ['güncelle', 20, 30], 100]\n",
      "[1, 2, 3, [10, 'update', 30], 200]\n"
     ]
    }
   ],
   "source": [
    "shallow[3][0] = \"güncelle\"\n",
    "deep[3][1] = \"update\"\n",
    "print(a)\n",
    "print(shallow)\n",
    "print(deep)"
   ]
  },
  {
   "cell_type": "markdown",
   "metadata": {},
   "source": [
    "### **3. Python'da swapcase() fonksiyonu ne işe yarar?**"
   ]
  },
  {
   "cell_type": "code",
   "execution_count": 13,
   "metadata": {},
   "outputs": [
    {
     "name": "stdout",
     "output_type": "stream",
     "text": [
      "TECHPROEDUCATION\n"
     ]
    }
   ],
   "source": [
    "string = \"techproeducation\"\n",
    "print(string.swapcase())"
   ]
  },
  {
   "cell_type": "code",
   "execution_count": 14,
   "metadata": {},
   "outputs": [
    {
     "name": "stdout",
     "output_type": "stream",
     "text": [
      "techproeducation\n"
     ]
    }
   ],
   "source": [
    "string_2 = \"TECHPROEDUCATION\"\n",
    "print(string_2.swapcase())"
   ]
  },
  {
   "cell_type": "markdown",
   "metadata": {},
   "source": [
    "### **4. Bir listedeki tekrarlı elemanları nasıl silersiniz?**"
   ]
  },
  {
   "cell_type": "code",
   "execution_count": 15,
   "metadata": {},
   "outputs": [
    {
     "data": {
      "text/plain": [
       "[1, 4, 5, 6, 8, 12]"
      ]
     },
     "execution_count": 15,
     "metadata": {},
     "output_type": "execute_result"
    }
   ],
   "source": [
    "# Tekrarlı elemanları listeden çıkarmak için set() fonksiyonu kullanılır\n",
    "demo_list=[5,4,4,6,8,12,12,1,5]\n",
    "unique_list = list(set(demo_list))\n",
    "unique_list"
   ]
  },
  {
   "cell_type": "markdown",
   "metadata": {},
   "source": [
    "### **5. İki tuple nasıl birleştirilir?**"
   ]
  },
  {
   "cell_type": "code",
   "execution_count": 16,
   "metadata": {},
   "outputs": [],
   "source": [
    "tup1=(1,\"a\",True)\n",
    "tup2=(4,5,6)"
   ]
  },
  {
   "cell_type": "code",
   "execution_count": 17,
   "metadata": {},
   "outputs": [
    {
     "data": {
      "text/plain": [
       "(1, 'a', True, 4, 5, 6)"
      ]
     },
     "execution_count": 17,
     "metadata": {},
     "output_type": "execute_result"
    }
   ],
   "source": [
    "tup1 + tup2"
   ]
  },
  {
   "cell_type": "markdown",
   "metadata": {},
   "source": [
    "### **6. Python ile sting bir ifadeyi nasıl küçük harfe çevirirsiniz?**"
   ]
  },
  {
   "cell_type": "code",
   "execution_count": 18,
   "metadata": {},
   "outputs": [
    {
     "data": {
      "text/plain": [
       "'techproeducation'"
      ]
     },
     "execution_count": 18,
     "metadata": {},
     "output_type": "execute_result"
    }
   ],
   "source": [
    "string = \"TECHPROEDUCATION\"\n",
    "string.lower()"
   ]
  },
  {
   "cell_type": "code",
   "execution_count": 21,
   "metadata": {},
   "outputs": [],
   "source": [
    "string3 = string.capitalize()"
   ]
  },
  {
   "cell_type": "code",
   "execution_count": 22,
   "metadata": {},
   "outputs": [
    {
     "data": {
      "text/plain": [
       "'Techproeducation'"
      ]
     },
     "execution_count": 22,
     "metadata": {},
     "output_type": "execute_result"
    }
   ],
   "source": [
    "string3"
   ]
  },
  {
   "cell_type": "code",
   "execution_count": 23,
   "metadata": {},
   "outputs": [
    {
     "data": {
      "text/plain": [
       "'TECHPROEDUCATION'"
      ]
     },
     "execution_count": 23,
     "metadata": {},
     "output_type": "execute_result"
    }
   ],
   "source": [
    "string3.upper()"
   ]
  },
  {
   "cell_type": "markdown",
   "metadata": {},
   "source": [
    "### **7. Bir dictionary verisindeki keyleri nasıl listelersiniz?**"
   ]
  },
  {
   "cell_type": "code",
   "execution_count": 24,
   "metadata": {},
   "outputs": [
    {
     "data": {
      "text/plain": [
       "dict_keys(['isim', 'yaş', 'şehir'])"
      ]
     },
     "execution_count": 24,
     "metadata": {},
     "output_type": "execute_result"
    }
   ],
   "source": [
    "my_dict = {\n",
    "    'isim': 'Ali',\n",
    "    'yaş': 30,\n",
    "    'şehir': 'İstanbul'\n",
    "}\n",
    "\n",
    "my_dict.keys()"
   ]
  },
  {
   "cell_type": "code",
   "execution_count": 25,
   "metadata": {},
   "outputs": [
    {
     "data": {
      "text/plain": [
       "['isim', 'yaş', 'şehir']"
      ]
     },
     "execution_count": 25,
     "metadata": {},
     "output_type": "execute_result"
    }
   ],
   "source": [
    "list(my_dict.keys())"
   ]
  },
  {
   "cell_type": "markdown",
   "metadata": {},
   "source": [
    "### **8. Python'da bir elementin belirli bir indeksine nasıl eleman yerleştirirsiniz?**"
   ]
  },
  {
   "cell_type": "code",
   "execution_count": 26,
   "metadata": {},
   "outputs": [
    {
     "name": "stdout",
     "output_type": "stream",
     "text": [
      "[1, 2, 10, 3, 4, 5]\n"
     ]
    }
   ],
   "source": [
    "liste = [1, 2, 3, 4, 5]\n",
    "liste.insert(2, 10)  # 2. indekse 10 sayısını yerleştiriyoruz\n",
    "print(liste) "
   ]
  },
  {
   "cell_type": "markdown",
   "metadata": {},
   "source": [
    "### **9. Negatif index nedir? Ne için kullanılır?**"
   ]
  },
  {
   "cell_type": "code",
   "execution_count": 27,
   "metadata": {},
   "outputs": [
    {
     "name": "stdout",
     "output_type": "stream",
     "text": [
      "50\n",
      "40\n"
     ]
    }
   ],
   "source": [
    "# Bir liste tanımlama\n",
    "liste = [10, 20, 30, 40, 50]\n",
    "\n",
    "# Negatif indeks kullanarak elemanlara erişim\n",
    "son_eleman = liste[-1]  # 50\n",
    "onceki_eleman = liste[-2]  # 40\n",
    "\n",
    "print(son_eleman) \n",
    "print(onceki_eleman)"
   ]
  },
  {
   "cell_type": "markdown",
   "metadata": {},
   "source": [
    "### **10. Bir sayıyı nasıl string ifafeye dönüştürürsünüz?**"
   ]
  },
  {
   "cell_type": "code",
   "execution_count": 28,
   "metadata": {},
   "outputs": [
    {
     "data": {
      "text/plain": [
       "'123'"
      ]
     },
     "execution_count": 28,
     "metadata": {},
     "output_type": "execute_result"
    }
   ],
   "source": [
    "# str() metodu\n",
    "sayi = 123\n",
    "string_ifade = str(sayi)\n",
    "string_ifade"
   ]
  },
  {
   "cell_type": "code",
   "execution_count": 29,
   "metadata": {},
   "outputs": [
    {
     "data": {
      "text/plain": [
       "str"
      ]
     },
     "execution_count": 29,
     "metadata": {},
     "output_type": "execute_result"
    }
   ],
   "source": [
    "type(string_ifade)"
   ]
  },
  {
   "cell_type": "markdown",
   "metadata": {},
   "source": [
    "---"
   ]
  },
  {
   "cell_type": "code",
   "execution_count": 30,
   "metadata": {},
   "outputs": [
    {
     "data": {
      "text/plain": [
       "'10'"
      ]
     },
     "execution_count": 30,
     "metadata": {},
     "output_type": "execute_result"
    }
   ],
   "source": [
    "#F-string metodu (Python 3.6 ve üzeri)\n",
    "sayi = 10\n",
    "string_ifade = f\"{sayi}\"\n",
    "string_ifade"
   ]
  },
  {
   "cell_type": "markdown",
   "metadata": {},
   "source": [
    "---"
   ]
  },
  {
   "cell_type": "code",
   "execution_count": 31,
   "metadata": {},
   "outputs": [
    {
     "data": {
      "text/plain": [
       "'11'"
      ]
     },
     "execution_count": 31,
     "metadata": {},
     "output_type": "execute_result"
    }
   ],
   "source": [
    "# format() metodu\n",
    "sayi = 11\n",
    "string_ifade = \"{}\".format(sayi)\n",
    "string_ifade"
   ]
  },
  {
   "cell_type": "markdown",
   "metadata": {},
   "source": [
    "### **11. Python ile bir ifadedeki boşlukları nasıl silersiniz?**"
   ]
  },
  {
   "cell_type": "code",
   "execution_count": 32,
   "metadata": {},
   "outputs": [
    {
     "data": {
      "text/plain": [
       "'Merhaba,dünya!'"
      ]
     },
     "execution_count": 32,
     "metadata": {},
     "output_type": "execute_result"
    }
   ],
   "source": [
    "# replace() metodu\n",
    "metin = \"Merhaba,   dünya!\"\n",
    "temiz_metin = metin.replace(\" \", \"\")\n",
    "temiz_metin"
   ]
  },
  {
   "cell_type": "code",
   "execution_count": 33,
   "metadata": {},
   "outputs": [
    {
     "data": {
      "text/plain": [
       "'Hello,world!'"
      ]
     },
     "execution_count": 33,
     "metadata": {},
     "output_type": "execute_result"
    }
   ],
   "source": [
    "# split() ve join() metodu\n",
    "metin = \"Hello,   world!\"\n",
    "temiz_metin = ''.join(metin.split())\n",
    "temiz_metin"
   ]
  },
  {
   "cell_type": "code",
   "execution_count": 34,
   "metadata": {},
   "outputs": [
    {
     "data": {
      "text/plain": [
       "'Selam, dünya!'"
      ]
     },
     "execution_count": 34,
     "metadata": {},
     "output_type": "execute_result"
    }
   ],
   "source": [
    "# strip() metodu ifadenin başındaki ve sonundaki boşlukları silmek için kullanılır.\n",
    "metin = \"   Selam, dünya!   \"\n",
    "temiz_metin = metin.strip()  # Sadece baş ve son boşlukları siler\n",
    "temiz_metin"
   ]
  },
  {
   "cell_type": "code",
   "execution_count": 35,
   "metadata": {},
   "outputs": [
    {
     "data": {
      "text/plain": [
       "'   Selam, dünya!'"
      ]
     },
     "execution_count": 35,
     "metadata": {},
     "output_type": "execute_result"
    }
   ],
   "source": [
    "# rstrip() metodu ifadenin sonundaki boşlukları silmek için kullanılır.\n",
    "metin = \"   Selam, dünya!   \"\n",
    "temiz_metin = metin.rstrip()  # Sadece baş ve son boşlukları siler\n",
    "temiz_metin"
   ]
  },
  {
   "cell_type": "code",
   "execution_count": 36,
   "metadata": {},
   "outputs": [
    {
     "data": {
      "text/plain": [
       "'Selam, dünya!'"
      ]
     },
     "execution_count": 36,
     "metadata": {},
     "output_type": "execute_result"
    }
   ],
   "source": [
    "temiz_metin.lstrip()"
   ]
  },
  {
   "cell_type": "markdown",
   "metadata": {},
   "source": [
    "---"
   ]
  },
  {
   "cell_type": "markdown",
   "metadata": {},
   "source": [
    "#### Bonus Bilgi!!!"
   ]
  },
  {
   "cell_type": "markdown",
   "metadata": {},
   "source": [
    "https://medium.com/fedeveloper/regex-hakk%C4%B1nda-2c4e80501802"
   ]
  },
  {
   "cell_type": "code",
   "execution_count": 47,
   "metadata": {},
   "outputs": [
    {
     "name": "stdout",
     "output_type": "stream",
     "text": [
      "Merhaba,dünya!\n"
     ]
    }
   ],
   "source": [
    "#Regüler ifadeler (Regex) genellikle daha karmaşık durumlar için kullanılır.\n",
    "import re\n",
    "\n",
    "metin = \"Merhaba,   dünya!\"\n",
    "temiz_metin = re.sub(r'\\s+', '', metin)  # Tüm boşlukları siler\n",
    "print(temiz_metin)"
   ]
  },
  {
   "cell_type": "markdown",
   "metadata": {},
   "source": [
    "---"
   ]
  },
  {
   "cell_type": "markdown",
   "metadata": {},
   "source": [
    "### **12. Pythonda map() fonksiyonu ne işe yarar?**"
   ]
  },
  {
   "cell_type": "markdown",
   "metadata": {},
   "source": [
    "* Python'da bir iterable (örneğin, liste) üzerinde belirli bir işlevi uygulamak için kullanılır. Bu fonksiyon, belirtilen işlevin her bir öğeye uygulanması sonucu yeni bir iterable döndürür.\n",
    "\n",
    "* Python 3'te map() fonksiyonu bir map nesnesi döndürür; bu nedenle, sonucu görmek için listeye dönüştürmek gerekebilir."
   ]
  },
  {
   "cell_type": "code",
   "execution_count": 38,
   "metadata": {},
   "outputs": [
    {
     "data": {
      "text/plain": [
       "[1, 4, 9, 16, 25]"
      ]
     },
     "execution_count": 38,
     "metadata": {},
     "output_type": "execute_result"
    }
   ],
   "source": [
    "# Bir fonksiyon tanımlayalım\n",
    "def kare_al(x):\n",
    "    return x ** 2\n",
    "\n",
    "# Bir liste oluşturalım\n",
    "sayilar = [1, 2, 3, 4, 5]\n",
    "\n",
    "# map() fonksiyonu ile her bir sayının karesini alalım\n",
    "kareler = map(kare_al, sayilar)\n",
    "\n",
    "# Sonuçları listeye dönüştürelim\n",
    "kareler_listesi = list(kareler)\n",
    "\n",
    "kareler_listesi"
   ]
  },
  {
   "cell_type": "code",
   "execution_count": 37,
   "metadata": {},
   "outputs": [
    {
     "data": {
      "text/plain": [
       "4"
      ]
     },
     "execution_count": 37,
     "metadata": {},
     "output_type": "execute_result"
    }
   ],
   "source": [
    "2**2"
   ]
  },
  {
   "cell_type": "markdown",
   "metadata": {},
   "source": [
    "### **13. Python'da bir listedeki elemanları nasıl rastgele karıştırırsınız?**"
   ]
  },
  {
   "cell_type": "code",
   "execution_count": 40,
   "metadata": {},
   "outputs": [
    {
     "data": {
      "text/plain": [
       "[4, 3, 2, 1, 5]"
      ]
     },
     "execution_count": 40,
     "metadata": {},
     "output_type": "execute_result"
    }
   ],
   "source": [
    "import random\n",
    "\n",
    "# Rastgele karıştırılacak liste\n",
    "liste = [1, 2, 3, 4, 5]\n",
    "\n",
    "# Listeyi rastgele karıştır\n",
    "random.shuffle(liste)\n",
    "\n",
    "liste"
   ]
  },
  {
   "cell_type": "markdown",
   "metadata": {},
   "source": [
    "## **Python Pratikleri**"
   ]
  },
  {
   "cell_type": "markdown",
   "metadata": {},
   "source": [
    "1. Bir değişken tanımla ve içine kullanıcının yaşını isteyip sakla. Ardından yaşın 10 yıl sonra kaç olacağını hesapla ve ekrana yazdır."
   ]
  },
  {
   "cell_type": "code",
   "execution_count": 41,
   "metadata": {},
   "outputs": [
    {
     "name": "stdout",
     "output_type": "stream",
     "text": [
      "6 yaşında olan bir kişi 10 yıl sonra 16 yaşında olacaktır.\n"
     ]
    }
   ],
   "source": [
    "# Kullanıcının yaşını isteyip sakla\n",
    "yas = int(input(\"Lütfen yaşınızı giriniz: \"))\n",
    "\n",
    "# 10 yıl sonrasını hesapla\n",
    "yas_10_yil_sonra = yas + 10\n",
    "\n",
    "# Sonucu yazdır\n",
    "print(f\"{yas} yaşında olan bir kişi 10 yıl sonra {yas_10_yil_sonra} yaşında olacaktır.\")"
   ]
  },
  {
   "cell_type": "markdown",
   "metadata": {},
   "source": [
    "2. Kullanıcıdan bir sayı al ve pozitif mi negatif mi olduğunu ekrana yazdır."
   ]
  },
  {
   "cell_type": "code",
   "execution_count": 42,
   "metadata": {},
   "outputs": [
    {
     "name": "stdout",
     "output_type": "stream",
     "text": [
      "Girilen sayı sıfır.\n"
     ]
    }
   ],
   "source": [
    "# Kullanıcıdan bir sayı al\n",
    "sayi = float(input(\"Bir sayı girin: \"))\n",
    "\n",
    "# Sayının pozitif mi negatif mi olduğunu kontrol et\n",
    "if sayi > 0:\n",
    "    print(\"Girilen sayı pozitif.\")\n",
    "elif sayi < 0:\n",
    "    print(\"Girilen sayı negatif.\")\n",
    "else:\n",
    "    print(\"Girilen sayı sıfır.\")"
   ]
  },
  {
   "cell_type": "markdown",
   "metadata": {},
   "source": [
    "3. 1’den 10’a kadar olan sayıların toplamını bir for döngüsüyle hesapla."
   ]
  },
  {
   "cell_type": "code",
   "execution_count": 43,
   "metadata": {},
   "outputs": [
    {
     "name": "stdout",
     "output_type": "stream",
     "text": [
      "1'den 10'a kadar olan sayıların toplamı: 55\n"
     ]
    }
   ],
   "source": [
    "# Toplam değişkenini başlat\n",
    "toplam = 0\n",
    "\n",
    "# 1'den 10'a kadar olan sayılar için döngü\n",
    "for sayi in range(1, 11):\n",
    "    toplam += sayi  # Her sayıyı toplama ekle\n",
    "\n",
    "# Sonucu ekrana yazdır\n",
    "print(\"1'den 10'a kadar olan sayıların toplamı:\", toplam)"
   ]
  },
  {
   "cell_type": "markdown",
   "metadata": {},
   "source": [
    "4. 1’den 10’a kadar olan sayıların toplamını bir while döngüsüyle hesapla."
   ]
  },
  {
   "cell_type": "code",
   "execution_count": 44,
   "metadata": {},
   "outputs": [
    {
     "name": "stdout",
     "output_type": "stream",
     "text": [
      "1'den 10'a kadar olan sayıların toplamı: 55\n"
     ]
    }
   ],
   "source": [
    "# Başlangıç değerlerini ayarla\n",
    "sayi = 1\n",
    "toplam = 0\n",
    "\n",
    "# 1'den 10'a kadar olan sayılar için döngü\n",
    "while sayi <= 10:\n",
    "    toplam += sayi  # Her sayıyı toplama ekle\n",
    "    sayi += 1       # Sayıyı bir artır\n",
    "\n",
    "# Sonucu ekrana yazdır\n",
    "print(\"1'den 10'a kadar olan sayıların toplamı:\", toplam)"
   ]
  },
  {
   "cell_type": "markdown",
   "metadata": {},
   "source": [
    "5. Kullanıcıdan birkaç şehir ismi al ve bu şehirleri bir listeye ekle. Sonra alfabetik olarak sıralayıp ekrana yazdır."
   ]
  },
  {
   "cell_type": "code",
   "execution_count": 45,
   "metadata": {},
   "outputs": [
    {
     "name": "stdout",
     "output_type": "stream",
     "text": [
      "Alfabetik sıraya göre şehirler:\n",
      "Adana\n",
      "antalya\n",
      "istanbul\n",
      "zonguldak\n",
      "İsparta\n"
     ]
    }
   ],
   "source": [
    "# Boş bir liste oluştur\n",
    "sehirler = []\n",
    "\n",
    "# Kullanıcıdan şehir isimlerini al\n",
    "while True:\n",
    "    sehir = input(\"Bir şehir ismi girin (çıkmak için 'q' yazın): \")\n",
    "    if sehir.lower() == 'q':\n",
    "        break  # 'q' yazıldığında döngüden çık\n",
    "\n",
    "    sehirler.append(sehir)  # Şehir ismini listeye ekle\n",
    "\n",
    "# Şehirleri alfabetik olarak sırala\n",
    "sehirler.sort()\n",
    "\n",
    "# Sonucu ekrana yazdır\n",
    "print(\"Alfabetik sıraya göre şehirler:\")\n",
    "for sehir in sehirler:\n",
    "    print(sehir)"
   ]
  },
  {
   "cell_type": "markdown",
   "metadata": {},
   "source": [
    "6. Verilen iki sayının çarpımını hesaplayan ve sonucu döndüren bir fonksiyon tanımla"
   ]
  },
  {
   "cell_type": "code",
   "execution_count": null,
   "metadata": {},
   "outputs": [],
   "source": []
  },
  {
   "cell_type": "markdown",
   "metadata": {},
   "source": [
    "7. Verilen iki stringden birini diğerinin ortasına ekleyerek yeni bir string oluşturun."
   ]
  },
  {
   "cell_type": "code",
   "execution_count": 46,
   "metadata": {},
   "outputs": [
    {
     "name": "stdout",
     "output_type": "stream",
     "text": [
      "Yeni oluşturulan string: TechEducationpro1\n"
     ]
    }
   ],
   "source": [
    "ilk_string = \"Techpro1\"\n",
    "ikinci_string = \"Education\"\n",
    "# ilk stringin ortasını bul\n",
    "ort_index = len(ilk_string)//2\n",
    "# Yeni string oluştur\n",
    "yeni_string = ilk_string[:ort_index] + ikinci_string + ilk_string[ort_index:]\n",
    "print(\"Yeni oluşturulan string:\", yeni_string)  "
   ]
  },
  {
   "cell_type": "markdown",
   "metadata": {},
   "source": [
    "8. Kullanıcıdan aldığınız bir dizenin ilk 2 ve son 2 karakterinden oluşan bir dize döndürün. Dize uzunluğu 4’den az ise \"boş string” döndürün."
   ]
  },
  {
   "cell_type": "code",
   "execution_count": null,
   "metadata": {},
   "outputs": [],
   "source": []
  },
  {
   "cell_type": "markdown",
   "metadata": {},
   "source": [
    "9. Verilen dizedeki bir alt dizenin kaç kez geçtiğini bulan programı yazın."
   ]
  },
  {
   "cell_type": "code",
   "execution_count": null,
   "metadata": {},
   "outputs": [],
   "source": []
  },
  {
   "cell_type": "markdown",
   "metadata": {},
   "source": [
    "10. Öğrencilerin isim ve notlarını içeren bir sözlük oluştur. Bir öğrencinin notunu arama ve yazdırma işlemi yap."
   ]
  },
  {
   "cell_type": "code",
   "execution_count": null,
   "metadata": {},
   "outputs": [],
   "source": []
  },
  {
   "cell_type": "markdown",
   "metadata": {},
   "source": [
    "# <p style=\"background-color:green;font-family:newtimeroman;font-size:100%;color:white;text-align:center;border-radius:20px 20px;\"><b>Faydalı Olması Temennisiyle Teşekkürler</b></p>\n",
    "![](https://www.techproeducation.com/logo/headerlogo.svg)\n",
    "\n",
    "<b>Yeniliklerden ilk siz haberdar olmak istiyorsanız lütfen bizi takip etmeyi unutmayın </b>[YouTube](https://www.youtube.com/c/techproeducation) | [Instagram](https://www.instagram.com/techproeducation) | [Facebook](https://www.facebook.com/techproeducation) | [Telegram](https://t.me/joinchat/HH2qRvA-ulh4OWbb) | [Whatsapp](https://api.whatsapp.com/send/?phone=%2B15853042959&text&type=phone_number&app_absent=0) | [LinkedIn](https://www.linkedin.com/company/techproeducation/mycompany/) |"
   ]
  }
 ],
 "metadata": {
  "kernelspec": {
   "display_name": "Python 3",
   "language": "python",
   "name": "python3"
  },
  "language_info": {
   "codemirror_mode": {
    "name": "ipython",
    "version": 3
   },
   "file_extension": ".py",
   "mimetype": "text/x-python",
   "name": "python",
   "nbconvert_exporter": "python",
   "pygments_lexer": "ipython3",
   "version": "3.11.4"
  }
 },
 "nbformat": 4,
 "nbformat_minor": 2
}
