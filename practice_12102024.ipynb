{
 "cells": [
  {
   "cell_type": "markdown",
   "metadata": {},
   "source": [
    "**1. Metin Mesajı Analizi**\n",
    "\n",
    "Sorun Bildirimi: Bir metin mesajı analizi uygulaması oluşturun. Kullanıcı, bir metin mesajını giriş olarak verecek ve uygulamanın mesajdaki kelimelerin sayısını, cümle sayısını ve karakter sayısını belirlemesini sağlamalıdır.\n",
    "\n",
    "Görev: Kullanıcı tarafından sağlanan metin mesajını analiz ederek aşağıdaki bilgileri sağlayın:\n",
    "\n",
    "    Toplam kelime sayısı\n",
    "    Toplam cümle sayısı\n",
    "    Toplam karakter sayısı\n",
    "\n",
    "Bonus: Kullanıcının sağladığı metin mesajını analiz ederken, aynı zamanda en sık kullanılan kelimeleri veya karakterleri belirleyin ve kullanıcıya raporlayın."
   ]
  },
  {
   "cell_type": "code",
   "execution_count": 3,
   "metadata": {},
   "outputs": [
    {
     "name": "stdout",
     "output_type": "stream",
     "text": [
      "Cumle sayisi : 1\n",
      "Kelime sayisi:  13\n",
      "Harf sayısı:  56\n",
      "Sayı sayısı:   3\n",
      "Harf ve kelimeler toplamı:  59\n"
     ]
    }
   ],
   "source": [
    "mesaj = input(\"Lütfen aklınıza gelen herhangi bir cümleyi yazınız: \")\n",
    "\n",
    "cumle_sayisi = mesaj.count(\".\")\n",
    "\n",
    "kelime_sayisi = mesaj.count(\" \")\n",
    "\n",
    "def countLetterandDigits(mesaj):\n",
    "    lcount = dcount = 0\n",
    "\n",
    "    for c in mesaj:\n",
    "        if c.isdigit():\n",
    "            dcount += 1\n",
    "        elif c.isalpha():\n",
    "            lcount += 1\n",
    "\n",
    "    return lcount, dcount\n",
    "\n",
    "letters, digits = countLetterandDigits(mesaj)\n",
    "\n",
    "print(\"Cumle sayisi :\", cumle_sayisi)\n",
    "print(\"Kelime sayisi: \", kelime_sayisi)\n",
    "print(\"Harf sayısı: \", letters)\n",
    "print(\"Sayı sayısı:  \", digits)\n",
    "\n",
    "print(\"Harf ve kelimeler toplamı: \", letters + digits)\n"
   ]
  },
  {
   "cell_type": "markdown",
   "metadata": {},
   "source": [
    "**2. Palindrom Sorgulayıcı**\n",
    "\n",
    "Sorun Bildirimi: Bir palindrom sorgulayıcı uygulaması oluşturun. Kullanıcı, bir kelime veya cümle girişi yapacak ve uygulamanın bu girişin bir palindrom olup olmadığını kontrol etmesini sağlamalıdır.\n",
    "\n",
    "Görev: Kullanıcının girişini alarak, uygulamanın bunun bir palindrom olup olmadığını belirlemesini sağlayın. Bir palindrom, soldan sağa veya sağdan sola okunduğunda aynı olan bir kelime veya cümledir.\n",
    "\n",
    "Bonus: Kullanıcıya, girişin bir palindrom olup olmadığını belirleme sürecini görselleştiren bir arayüz sağlayın, örneğin girişin ters çevrilmiş halini görüntüleyerek."
   ]
  },
  {
   "cell_type": "code",
   "execution_count": 6,
   "metadata": {},
   "outputs": [
    {
     "name": "stdout",
     "output_type": "stream",
     "text": [
      "Evet girdiğiniz ey edip adanada pide ye tümcesi bir adet palindrome'dur.\n"
     ]
    }
   ],
   "source": [
    "# {EEEEY NİHAT ADANADA TAHİN YEEEE}\n",
    "\n",
    "cumle_veya_kelime = input(\"Lütfen bir cümle veya kelime giriniz: \")\n",
    "tersten_okuma = cumle_veya_kelime[::-1] \n",
    "\n",
    "if cumle_veya_kelime == tersten_okuma:\n",
    "    print(f\"Evet sevgili dostum, girdiğiniz {cumle_veya_kelime} tümcesi bir adet palindrome'dur.\")\n",
    "else:\n",
    "    print(f\"Hayır sevgili dostum, girdiğiniz {cumle_veya_kelime} tümcesi bir adet palindrome değildir.\")\n",
    "\n",
    "\n"
   ]
  },
  {
   "cell_type": "markdown",
   "metadata": {},
   "source": [
    "**3. Karakter Dizisi Dönüşümü**\n",
    "\n",
    "Sorun Bildirimi: Bir karakter dizisini farklı biçimlerde dönüştüren bir program yazın. Kullanıcı, bir giriş karakter dizisi ve dönüşüm türü seçerek dönüştürülen karakter dizisini görmelidir.\n",
    "\n",
    "Görev: Kullanıcının sağladığı giriş karakter dizisini, kullanıcının seçtiği dönüşüm türüne göre dönüştürün. Dönüşüm türleri arasında büyük harfe dönüştürme, küçük harfe dönüştürme, baş harfleri büyük yapma ve ters çevirme gibi seçenekler bulunabilir.\n",
    "\n",
    "Bonus: Kullanıcının sağladığı karakter dizisini daha karmaşık biçimlerde dönüştürme seçenekleri ekleyin, örneğin metni tersine çevirme veya harfleri biraz değiştirme."
   ]
  },
  {
   "cell_type": "code",
   "execution_count": 9,
   "metadata": {},
   "outputs": [
    {
     "name": "stdout",
     "output_type": "stream",
     "text": [
      "lütfen.\n"
     ]
    }
   ],
   "source": [
    "istenilen = input(\"Lütfen bir cümle veya kelime giriniz: \")\n",
    "gereken = input(\"Büyük harfe dönüştürme için 'BB', tamamen küçük harf için 'k' swapcase için 's', title için 't' sadece ilk harfi büyük harfe dönüştürme için 'i' giriniz.\")\n",
    "\n",
    "if gereken == \"BB\":\n",
    "    print(istenilen.upper())\n",
    "elif gereken == \"k\":\n",
    "    print(istenilen.lower())\n",
    "elif gereken == \"s\":\n",
    "    print(istenilen.swapcase())\n",
    "elif gereken == \"t\":\n",
    "    print(istenilen.title())\n",
    "elif gereken == \"i\":\n",
    "    print(istenilen.capitalize())\n",
    "else: \n",
    "    print(\"Lütfen geçerli bir işlem bilgisi giriniz.\")\n"
   ]
  },
  {
   "cell_type": "markdown",
   "metadata": {},
   "source": [
    "**4. Email Doğrulama**\n",
    "\n",
    "Sorun Bildirimi: Bir kullanıcının girdiği e-posta adresinin doğruluğunu kontrol eden bir program yazın.\n",
    "\n",
    "Görev: Kullanıcıdan bir e-posta adresi alın. Ardından, bu e-posta adresinin geçerli bir adres olup olmadığını kontrol edin. Geçerli bir e-posta adresi, genellikle bir kullanıcı adı, \"@\" işareti, alan adı ve bir üst düzey alan adından oluşur. Örneğin, \"ornek@ornek.com\" gibi. Programınız, kullanıcıya e-posta adresinin geçerli olup olmadığını bildirmelidir.\n",
    "\n",
    "Bonus: E-posta adresinin yanı sıra, kullanıcının girdiği metnin içindeki diğer e-posta adreslerini de bulup listelemeyi deneyin."
   ]
  },
  {
   "cell_type": "code",
   "execution_count": 24,
   "metadata": {},
   "outputs": [
    {
     "name": "stdout",
     "output_type": "stream",
     "text": [
      "Girdiğiniz email adresi geçerlidir.\n"
     ]
    }
   ],
   "source": [
    "# EMAİL DOĞRULAMA PROGRAMI\n",
    "\n",
    "email = input(\"Lütfen email adresinizi giriniz: \")\n",
    "\n",
    "index = email.index(\"@\") \n",
    "index2 = email.index(\".\")\n",
    "\n",
    "if index and index2 >= 0:\n",
    "    print(\"Girdiğiniz email adresi geçerlidir.\")\n",
    "else:\n",
    "    print(\"Lütfen geçerli bir email adresi giriniz.\")\n",
    "\n"
   ]
  },
  {
   "cell_type": "markdown",
   "metadata": {},
   "source": [
    "**5. Güçlü Şifre Oluşturucu**\n",
    "\n",
    "* Karmaşık bir şifre oluşturmak için kullanıcı girdisi alan bir Python programı yazın. \n",
    "* Program, kullanıcıdan şifreye dahil etmek istedikleri ünlüler, ünsüzler, sayılar, noktalama işaretleri ve sayısal olmayan karakterler gibi karakter türlerini belirtmesini istemelidir. \n",
    "* Kullanıcının girişine bağlı olarak, 8, 9, 10, 11 veya 12 karakterden oluşan rastgele bir şifre oluşturun. \n",
    "* Lütfen oluşturulan şifrenin kullanıcının belirlediği kriterleri karşıladığından emin olun."
   ]
  },
  {
   "cell_type": "code",
   "execution_count": 21,
   "metadata": {},
   "outputs": [
    {
     "name": "stdout",
     "output_type": "stream",
     "text": [
      "Y'xGM3$<hK5t}Ev\"\\|>;=WubA4DIO`e)fg+&R#zZ_\n"
     ]
    }
   ],
   "source": [
    "import random\n",
    "import string\n",
    "\n",
    "uzunluk = int(input(\"Lütfen üretmek istediğiniz şifre uzunluğunu, 8, 9 10, 11 veya 12 olarak giriniz: \"))\n",
    "\n",
    "kucuk = string.ascii_lowercase\n",
    "buyuk = string.ascii_uppercase\n",
    "numerik = string.digits\n",
    "sembol = string.punctuation\n",
    "\n",
    "hepsi = kucuk + buyuk + numerik + sembol\n",
    "\n",
    "temp = random.sample(hepsi, uzunluk)\n",
    "password = \"\". join(temp)\n",
    "print(password) \n",
    "\n"
   ]
  },
  {
   "cell_type": "markdown",
   "metadata": {},
   "source": [
    "**10. Sınav/Ödev Takip Uygulaması:** Öğrencilerin sınav tarihlerini, ödevlerini ve projelerini listelemesine ve takip etmesine olanak tanıyan bir uygulama. Öğrenciler, sınavları ve ödevleri listeye ekleyebilir, son teslim tarihlerini belirleyebilir ve tamamlandıkça işaretleyebilir."
   ]
  },
  {
   "cell_type": "code",
   "execution_count": 26,
   "metadata": {},
   "outputs": [
    {
     "name": "stdout",
     "output_type": "stream",
     "text": [
      "['12ekin', 'odevvar', 'projevar']\n"
     ]
    }
   ],
   "source": [
    "ders = input(\"Lütfen sınava gireceğiniz ders adını giriniz: \")\n",
    "sinav_tarihi = input(\"Lütfen sınav tarihini giriniz: \")\n",
    "odev = input(\"Lütfen ödev bilginizi giriniz: \")\n",
    "proje = input (\"LÜtfen proje bilginizi giriniz: \")\n",
    "\n",
    "sinav_odev_takip = [sinav_tarihi, odev, proje]\n",
    "print(sinav_odev_takip)\n"
   ]
  },
  {
   "cell_type": "markdown",
   "metadata": {},
   "source": [
    "**11. Öğrenci Başarı Takip Sistemi:**\n",
    "\n",
    "Bir okul yönetimi, öğrencilerin ders başarılarını izlemek ve kaydetmek için bir sistem oluşturmak istiyor. Bu sistem, öğrencilerin aldıkları dersleri ve bu derslerde elde ettikleri notları saklayacak.\n",
    "\n",
    "Her öğrenci için, hangi dersi aldıkları ve bu derslerde aldıkları notlar sisteme tuple'lar aracılığıyla kaydedilecek. Örneğin, bir öğrencinin \"Matematik\" dersinden 85, \"Biyoloji\" dersinden ise 70 aldığı kaydedilecek.\n",
    "\n",
    "Bu sistem, öğrencilerin akademik performansını değerlendirmek, öğretmenlerin öğrenci başarılarını izlemek ve gerekli durumlarda öğrencilere yardımcı olmak için kullanılabilir. Ayrıca, dönem sonlarında sınıf geçme durumunu belirlemek ve öğrencilere rehberlik hizmetleri sağlamak için de kullanılabilir."
   ]
  },
  {
   "cell_type": "code",
   "execution_count": null,
   "metadata": {},
   "outputs": [],
   "source": []
  },
  {
   "cell_type": "markdown",
   "metadata": {},
   "source": [
    "**4. Coğrafi Konum Bilgileri:** Bir harita uygulaması, kullanıcıların sık kullandıkları ve kaydetmek istedikleri konumları yönetmelerine olanak tanıyan bir sistem geliştirmek istiyor. Bu sistem, kullanıcıların belirli konumları adları ve koordinatlarıyla birlikte kaydedebilmesini sağlayacak.\n",
    "\n",
    "Örneğin, bir kullanıcı evinin ve iş yerinin konumlarını kaydetmek isteyebilir. Bu durumda, kullanıcı \"Ev\" ve \"İş\" isimleriyle birlikte bu konumların enlem ve boylam koordinatlarını sisteme girecek. Konum bilgileri tuple veri yapısı kullanılarak saklanacaktır. Örnek olarak, (\"Ev\", (40.7128, -74.0060)) ve (\"İş\", (51.5074, -0.1278)) gibi tuple'lar kullanılacaktır.\n",
    "\n",
    "Bu sistem aşağıdaki durumlara çözüm üretebilmelidir:\n",
    "\n",
    "    Kullanıcıların farklı konumları adları ve koordinatlarıyla birlikte kaydedebilmesi.\n",
    "    Kaydedilmiş konumların adları ve koordinatlarının görüntülenebilmesi.\n",
    "    Gerektiğinde belirli bir konumun güncellenebilmesi (örneğin, iş yerinin adresi değişirse).\n",
    "    İstenilen konumların listeden silinebilmesi.\n",
    "\n",
    "Bu sistem, kullanıcıların günlük hayatlarında önemli yerleri hızlıca bulmalarına, adresleri hatırlamalarına ve ihtiyaç duyduklarında konumlarını kolayca yönetmelerine yardımcı olacaktır."
   ]
  },
  {
   "cell_type": "code",
   "execution_count": null,
   "metadata": {},
   "outputs": [],
   "source": []
  }
 ],
 "metadata": {
  "kernelspec": {
   "display_name": "Python 3",
   "language": "python",
   "name": "python3"
  },
  "language_info": {
   "codemirror_mode": {
    "name": "ipython",
    "version": 3
   },
   "file_extension": ".py",
   "mimetype": "text/x-python",
   "name": "python",
   "nbconvert_exporter": "python",
   "pygments_lexer": "ipython3",
   "version": "3.12.5"
  }
 },
 "nbformat": 4,
 "nbformat_minor": 2
}
