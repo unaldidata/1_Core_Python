{
 "cells": [
  {
   "cell_type": "markdown",
   "metadata": {},
   "source": [
    "1. Taban kenar uzunluğu 5 cm, Yükseklik uzunluğu 10 cm olan üçgenin alanını hesaplayınız."
   ]
  },
  {
   "cell_type": "code",
   "execution_count": null,
   "metadata": {},
   "outputs": [],
   "source": []
  },
  {
   "cell_type": "markdown",
   "metadata": {},
   "source": [
    "2. Yarıçapı 7 cm olan dairenin çevresini hesaplayınız. (π = 3)"
   ]
  },
  {
   "cell_type": "code",
   "execution_count": null,
   "metadata": {},
   "outputs": [],
   "source": []
  },
  {
   "cell_type": "markdown",
   "metadata": {},
   "source": [
    "3. Bir dikdörtgenin uzun kenarı 8 cm, kısa kenarı 5 cm'dir. Dikdörgenin alanı kaç cm²'dir?"
   ]
  },
  {
   "cell_type": "code",
   "execution_count": null,
   "metadata": {},
   "outputs": [],
   "source": []
  },
  {
   "cell_type": "markdown",
   "metadata": {},
   "source": [
    "4. 1'den 10 a kadar olan sayıların karesini ekrana yazdırın."
   ]
  },
  {
   "cell_type": "code",
   "execution_count": null,
   "metadata": {},
   "outputs": [],
   "source": []
  },
  {
   "cell_type": "markdown",
   "metadata": {},
   "source": [
    "5. a=10, b=20 dir. a ile b değerlerinin yerini değiştirip sonuç olarak a=20 ve b=10 elde etmek için gerekli algoritmayı oluşturup python kodlarını yazınız. Not: Yeniden değer atamadan yapınız."
   ]
  },
  {
   "cell_type": "code",
   "execution_count": null,
   "metadata": {},
   "outputs": [],
   "source": []
  },
  {
   "cell_type": "markdown",
   "metadata": {},
   "source": [
    "6. Yaş Hesaplama:\n",
    "\n",
    "Kullanıcıdan doğum yılını alarak yaşını hesaplayın ve farklı veri tipleri ile işlem yapın."
   ]
  },
  {
   "cell_type": "code",
   "execution_count": null,
   "metadata": {},
   "outputs": [],
   "source": []
  },
  {
   "cell_type": "markdown",
   "metadata": {},
   "source": [
    "7. Vücut Kitle İndeksi (BMI) Hesaplama:\n",
    "\n",
    "Kullanıcıdan kilo ve boy bilgilerini alarak BMI hesaplayın ve sonucu yuvarlayarak ekrana yazdırın."
   ]
  },
  {
   "cell_type": "code",
   "execution_count": null,
   "metadata": {},
   "outputs": [],
   "source": []
  },
  {
   "cell_type": "markdown",
   "metadata": {},
   "source": [
    "8. Alışveriş Faturası Hesaplama:\n",
    "\n",
    "Kullanıcıdan ürün fiyatlarını ve adetlerini alarak toplam tutarı hesaplayın."
   ]
  },
  {
   "cell_type": "code",
   "execution_count": null,
   "metadata": {},
   "outputs": [],
   "source": []
  },
  {
   "cell_type": "markdown",
   "metadata": {},
   "source": [
    "9. Döviz Çevirici:\n",
    "\n",
    "Kullanıcıdan bir miktar para alarak güncel döviz kuru ile farklı bir para birimine çevirin."
   ]
  },
  {
   "cell_type": "code",
   "execution_count": null,
   "metadata": {},
   "outputs": [],
   "source": []
  },
  {
   "cell_type": "markdown",
   "metadata": {},
   "source": [
    "10. İndirim Hesaplama:\n",
    "\n",
    "Kullanıcıdan ürünün fiyatını ve indirim yüzdesini alarak indirimli fiyatı hesaplayın."
   ]
  },
  {
   "cell_type": "code",
   "execution_count": null,
   "metadata": {},
   "outputs": [],
   "source": []
  },
  {
   "cell_type": "markdown",
   "metadata": {},
   "source": [
    "11. Mesafe Dönüştürücü:\n",
    "\n",
    "Kullanıcıdan kilometre veya mil cinsinden bir mesafe alarak farklı birimlere çevirin."
   ]
  },
  {
   "cell_type": "code",
   "execution_count": null,
   "metadata": {},
   "outputs": [],
   "source": []
  },
  {
   "cell_type": "markdown",
   "metadata": {},
   "source": [
    "12. Kullanıcıdan bir saniye değeri girmesini isteyin. girilen saniyeyi saat dakika ve sn cinsinden yazdırın. <br><br>\n",
    "örn: 19520 sn >> 5 saat, 25 dk, 20 saniye "
   ]
  },
  {
   "cell_type": "code",
   "execution_count": null,
   "metadata": {},
   "outputs": [],
   "source": []
  },
  {
   "cell_type": "markdown",
   "metadata": {},
   "source": [
    "13. Sıcaklık Dönüştürücü:\n",
    "\n",
    "Kullanıcıdan Celsius veya Fahrenheit cinsinden bir sıcaklık alarak diğer birime çevirin."
   ]
  },
  {
   "cell_type": "code",
   "execution_count": null,
   "metadata": {},
   "outputs": [],
   "source": []
  },
  {
   "cell_type": "markdown",
   "metadata": {},
   "source": [
    "14. Kullanıcıdan mevcut maaşı ve zam yüzdesini alarak yeni maaşı hesaplayın."
   ]
  },
  {
   "cell_type": "code",
   "execution_count": null,
   "metadata": {},
   "outputs": [],
   "source": []
  },
  {
   "cell_type": "markdown",
   "metadata": {},
   "source": [
    "15. İlk 100 pozitif tam sayının toplamını hesaplayın."
   ]
  },
  {
   "cell_type": "code",
   "execution_count": null,
   "metadata": {},
   "outputs": [],
   "source": []
  }
 ],
 "metadata": {
  "kernelspec": {
   "display_name": "Python 3",
   "language": "python",
   "name": "python3"
  },
  "language_info": {
   "codemirror_mode": {
    "name": "ipython",
    "version": 3
   },
   "file_extension": ".py",
   "mimetype": "text/x-python",
   "name": "python",
   "nbconvert_exporter": "python",
   "pygments_lexer": "ipython3",
   "version": "3.11.4"
  }
 },
 "nbformat": 4,
 "nbformat_minor": 2
}
