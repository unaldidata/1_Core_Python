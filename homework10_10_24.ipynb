{
 "cells": [
  {
   "cell_type": "code",
   "execution_count": null,
   "metadata": {},
   "outputs": [],
   "source": [
    "# Status kodunu kullanicidan aliniz, \n",
    "# eger status code  \n",
    "# 200 ise Basarili \n",
    "# 400 ise bad Request\n",
    "# 500 ise Server Error\n",
    "# yazdiran programi yazin\n"
   ]
  },
  {
   "cell_type": "code",
   "execution_count": 4,
   "metadata": {},
   "outputs": [
    {
     "name": "stdout",
     "output_type": "stream",
     "text": [
      "Lütfen 200, 400 veya 500 değerlerinden birini giriniz.\n"
     ]
    }
   ],
   "source": [
    "# Status Code Programı Ödevi:\n",
    "\n",
    "Status_Code = int(input(\"Lütfen Status Code'u 200, 400 veya 500 olarak giriniz: \"))\n",
    "\n",
    "if Status_Code == 200:\n",
    "    print(\"Sonuç; Başarılı\")\n",
    "elif Status_Code == 400:\n",
    "    print(\"Sonuç; Bad Request\")\n",
    "elif Status_Code == 500:\n",
    "    print(\"Sonuç; Server Error\")\n",
    "else:\n",
    "    print(\"Lütfen 200, 400 veya 500 değerlerinden birini giriniz.\")"
   ]
  },
  {
   "cell_type": "code",
   "execution_count": null,
   "metadata": {},
   "outputs": [],
   "source": [
    "# kullanicidan bir sayi alin, \n",
    "# bu sayi 3 e bolunebiliyorsa 'Tech'\n",
    "# 5 e bolunebiliyorsa 'pro',\n",
    "# hem 5 e hem de 3 e bolunebiliyorsa 'techpro' yazdirin\n",
    "# sayi bu sartlarin hicbirisini saglamiyorsa sayinin kendisini yazdiran python kodunu yazin"
   ]
  },
  {
   "cell_type": "code",
   "execution_count": 59,
   "metadata": {},
   "outputs": [
    {
     "name": "stdout",
     "output_type": "stream",
     "text": [
      "8\n"
     ]
    }
   ],
   "source": [
    "# 3, 5 ve 15 Tam Bölünebilirlik Programı Ödevi:\n",
    "\n",
    "sayi = int(input(\"Lütfen bir tamsayi degeri giriniz: \"))\n",
    "\n",
    "if sayi % 15 == 0:  # and sayi % 5 == 0:\n",
    "    print(\"Techpro\")\n",
    "elif sayi % 3 == 0: \n",
    "    print(\"Tech\")\n",
    "elif sayi % 5 == 0:\n",
    "    print(\"Pro\")\n",
    "elif sayi % 3 == 1 or 2:\n",
    "    print(sayi)\n",
    "else:\n",
    "    print(\"Lütfen geçerli bir tamsayi değeri giriniz.\")\n"
   ]
  },
  {
   "cell_type": "code",
   "execution_count": null,
   "metadata": {},
   "outputs": [],
   "source": [
    "# Soru: Bir restoran, müşterilerine sipariş verdikleri yemeklerin toplam tutarına\n",
    "# göre servis ücreti uygulamaktadır. Toplam sipariş tutarına göre servis ücreti şu şekildedir:\n",
    "# Eğer sipariş tutarı 200 TL ve üzerindeyse, servis ücreti yoktur.\n",
    "# Eğer sipariş tutarı 100 TL ile 199 TL arasındaysa, %5 servis ücreti uygulanır.\n",
    "# Eğer sipariş tutarı 50 TL ile 99 TL arasındaysa, %10 servis ücreti uygulanır.\n",
    "# Eğer sipariş tutarı 50 TL'nin altındaysa, %15 servis ücreti uygulanır.\n",
    "# Sipariş tutarını input olarak alan ve uygulanacak servis ücretini hesaplayarak ödenecek \n",
    "#toplam tutarı ekrana yazdıran bir program yazın.\n"
   ]
  },
  {
   "cell_type": "code",
   "execution_count": 73,
   "metadata": {},
   "outputs": [
    {
     "name": "stdout",
     "output_type": "stream",
     "text": [
      "Sipariş tutarı sıfırdan küçük olamaz.\n"
     ]
    }
   ],
   "source": [
    "# Servis Ücreti Programı Ödevi:\n",
    "\n",
    "siparis_tutari = int(input(\"Lütfen sipariş tutarini giriniz:  \"))\n",
    "\n",
    "if siparis_tutari >= 200:\n",
    "    print(f\"Eğer sipariş tutariniz 200 TL ve üzerinde olduğu için, herhangi bir servis ücreti uygulanmamaktadir. Sipariş tutariniz: {siparis_tutari} ₺'dir.\")\n",
    "elif 100 <= siparis_tutari <= 199:\n",
    "    print(f\"Servis ücreti ile birlikte sipariş tutariniz: {round(siparis_tutari * 1.05, 2)}₺'dir.\")\n",
    "elif 50 <= siparis_tutari <= 99:\n",
    "    print(f\"Servis ücreti ile birlikte sipariş tutariniz: {round(siparis_tutari * 1.1, 2)}₺'dir.\")\n",
    "elif 0 < siparis_tutari <= 49:\n",
    "    print(f\"Servis ücreti ile birlikte sipariş tutariniz: {round(siparis_tutari * 1.15, 2)}₺'dir.\")\n",
    "elif siparis_tutari < 0:\n",
    "    print(\"Sipariş tutarı sıfırdan küçük olamaz.\")\n",
    "else:\n",
    "    print(\"Lütfen geçerli bir değer giriniz.\")"
   ]
  },
  {
   "cell_type": "code",
   "execution_count": null,
   "metadata": {},
   "outputs": [],
   "source": [
    "# ## TR \n",
    "# Size iki sayı ve aşağıdaki operatörlerden biri verilecektir; \n",
    "# 'add' (topla), 'subtract' (çıkar), 'multiply' (çarp), 'divide' (böl). \n",
    "# Verilen operasyona bağlı olarak sayılar arasında uygun işlemi gerçekleştiren bir fonksiyon yazın. \n",
    "# Örneğin, eğer size 5, 7 ve 'multiply' (çarp) verilirse, 5 * 7 işlemini yapmanız ve sonucu (35) ekrana\n",
    "# yazdırmanız gerekir. Eğer kullanıcı operatörü yanlış girerse,\n",
    "# şu mesajı yazdırın: 'Lütfen operatörlerden birini seçin (add, subtract, divide, multiply)'.\n"
   ]
  },
  {
   "cell_type": "code",
   "execution_count": 69,
   "metadata": {},
   "outputs": [
    {
     "name": "stdout",
     "output_type": "stream",
     "text": [
      "Girmis olduğunuz 30 sayisi ve 0 sayilarinin carpimi 0'dir.\n"
     ]
    }
   ],
   "source": [
    "# Dört İşlem Programı Ödevi:\n",
    "\n",
    "number1 = int(input(\"Lütfen bir sayi giriniz: \"))\n",
    "number2 = int(input(\"Lütfen bir sayi daha giriniz ancak bu sayı sıfır olması durumunda bölme işlemi yapılamayacaktır: \"))\n",
    "hangi_islem = input(\"Bu girmis oldugunuz sayilarla hangi islemi yapmak istiyorsunuz. Toplama için '+', cikarma için '-', carpma icin '*' ve bölme icin '/' işaretlerinden ilgili olani giriniz.\")\n",
    "\n",
    "if hangi_islem == \"+\":\n",
    "    print(f\"Girmis olduğunuz {number1} ve {number2} sayilarinin toplami {number1 + number2}'dir.\")\n",
    "elif hangi_islem == \"-\":\n",
    "    print(f\"Girmis olduğunuz {number1} sayisindan {number2} sayisinin farki {number1 - number2}'dir.\")\n",
    "elif hangi_islem == \"*\":\n",
    "    print(f\"Girmis olduğunuz {number1} sayisi ve {number2} sayilarinin carpimi {number1 * number2}'dir.\")\n",
    "elif hangi_islem == \"/\":\n",
    "    print(f\"Girmis olduğunuz {number1} sayisinin {number2} sayisina bölünmesi sonucu {number1 / number2}'dir.\")\n",
    "else:\n",
    "    print(\"Lütfen geçerli bir tamsayi giriniz.\")\n",
    "\n"
   ]
  },
  {
   "cell_type": "code",
   "execution_count": null,
   "metadata": {},
   "outputs": [],
   "source": [
    "# list = used to store multiple items in a single variable \n",
    "\n"
   ]
  }
 ],
 "metadata": {
  "kernelspec": {
   "display_name": "Python 3",
   "language": "python",
   "name": "python3"
  },
  "language_info": {
   "codemirror_mode": {
    "name": "ipython",
    "version": 3
   },
   "file_extension": ".py",
   "mimetype": "text/x-python",
   "name": "python",
   "nbconvert_exporter": "python",
   "pygments_lexer": "ipython3",
   "version": "3.12.5"
  }
 },
 "nbformat": 4,
 "nbformat_minor": 2
}
