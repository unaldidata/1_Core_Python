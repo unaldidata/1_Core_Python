{
 "cells": [
  {
   "cell_type": "code",
   "execution_count": null,
   "metadata": {},
   "outputs": [],
   "source": [
    "kap_kacak = {\"çatal\", \"bıçak\", \"kaşık\"}\n",
    "\n",
    "tabak = {\"tatli\", \"çorba\", \"servis\"}"
   ]
  },
  {
   "cell_type": "markdown",
   "metadata": {},
   "source": [
    "## dictionary metodları"
   ]
  },
  {
   "cell_type": "code",
   "execution_count": 3,
   "metadata": {},
   "outputs": [
    {
     "data": {
      "text/plain": [
       "{'ekran': '16 inç', 'ram': '8 gb', 'ssd': '1 Tb'}"
      ]
     },
     "execution_count": 3,
     "metadata": {},
     "output_type": "execute_result"
    }
   ],
   "source": [
    "# pop\n",
    "\n",
    "bilgisayar_modeli = {\"isim\" : \"asus\", \"ekran\" : \"16 inç\", \"ram\" : \"8 gb\", \"ssd\" : \"1 Tb\"}\n",
    "\n",
    "bilgisayar_modeli.pop(\"isim\")\n",
    "\n",
    "bilgisayar_modeli"
   ]
  },
  {
   "cell_type": "markdown",
   "metadata": {},
   "source": [
    "### Clear"
   ]
  },
  {
   "cell_type": "code",
   "execution_count": 6,
   "metadata": {},
   "outputs": [
    {
     "data": {
      "text/plain": [
       "{}"
      ]
     },
     "execution_count": 6,
     "metadata": {},
     "output_type": "execute_result"
    }
   ],
   "source": [
    "# bilgisayar_modeli.clear()\n",
    "\n",
    "# bilgisayar_modeli"
   ]
  },
  {
   "cell_type": "code",
   "execution_count": 9,
   "metadata": {},
   "outputs": [
    {
     "data": {
      "text/plain": [
       "dict"
      ]
     },
     "execution_count": 9,
     "metadata": {},
     "output_type": "execute_result"
    }
   ],
   "source": [
    "empty_dict = { }\n",
    "\n",
    "type (empty_dict)"
   ]
  },
  {
   "cell_type": "code",
   "execution_count": 25,
   "metadata": {},
   "outputs": [
    {
     "data": {
      "text/plain": [
       "'r'"
      ]
     },
     "execution_count": 25,
     "metadata": {},
     "output_type": "execute_result"
    }
   ],
   "source": [
    "# nested dicts\n",
    "\n",
    "family = {\"father\" : {\"age\" : 81, \"sex\" : \"male\", \"date of birth\" : 1943, \"profession\" : \"serbest meslek\"}, \n",
    "          \"mother\" : {\"age\" : 75, \"sex\" : \"female\", \"date of birth\" : 1949},\n",
    "          \"kardesh\" : {\"age\" : [\"jenny\", \"anna\"], \"sex\" : \"male\", \"date of birth\" : 1967}}\n",
    "\n",
    "len(family)\n",
    "\n",
    "family.keys()\n",
    "\n",
    "family.values()\n",
    "\n",
    "family[\"father\"][\"profession\"][2]"
   ]
  },
  {
   "cell_type": "code",
   "execution_count": null,
   "metadata": {},
   "outputs": [],
   "source": [
    "family[\"sibling\"][\"name\"][1][2:4]"
   ]
  },
  {
   "cell_type": "code",
   "execution_count": null,
   "metadata": {},
   "outputs": [],
   "source": [
    "tuple_2 = ('Alpaslan','Suha','Abdullah','Alpaslan','Ahmet','Mehmet','Ceylan','Alpaslan','Ensar')\n",
    "tuple_2.index('Alpaslan',4)\n",
    "\n",
    "# Tuple'daki indeksleme metodunda parantez içinde yazılan 4, \n",
    "# aramaya başlanılması gereken başlangıç indeksini ifade eder. Yani, tuple_2.index(\"Alpaslan\",4) \n",
    "# ifadesi, 4. indeks ve sonrasındaki \"Alpaslan\" elemanını bulmaya çalışır. Kısaca, tuple_2daki 4.\n",
    "#  ve daha sonraki elemanlara bakar ve ilk \"Alpaslan\"nın indeksini döndürür"
   ]
  },
  {
   "cell_type": "markdown",
   "metadata": {},
   "source": [
    "# SET\n",
    "\n",
    "- elemanları unique'tir.\n",
    "- unordered'dır. belli bir düzeni yoktur. indexlenemez.\n",
    "- iterable'dır. --> Elemanlarına teket teker ulşılabilir.\n",
    "- mutable'dır. --> atama yapmadan değiştirilebieldir."
   ]
  },
  {
   "cell_type": "code",
   "execution_count": 26,
   "metadata": {},
   "outputs": [
    {
     "data": {
      "text/plain": [
       "{' ', 'H', 'd', 'e', 'l', 'o', 'r', 'w'}"
      ]
     },
     "execution_count": 26,
     "metadata": {},
     "output_type": "execute_result"
    }
   ],
   "source": [
    "set(\"Hello world\") # burda jupyter kullandığımız için ascii kodu sırasına göre gönderdi. "
   ]
  },
  {
   "cell_type": "code",
   "execution_count": 30,
   "metadata": {},
   "outputs": [
    {
     "name": "stdout",
     "output_type": "stream",
     "text": [
      "{'r', 'H', 'l', ' ', 'd', 'o', 'e', 'w'}\n"
     ]
    }
   ],
   "source": [
    "print(set(\"Hello world\"))"
   ]
  },
  {
   "cell_type": "code",
   "execution_count": 31,
   "metadata": {},
   "outputs": [
    {
     "name": "stdout",
     "output_type": "stream",
     "text": [
      "{'r', 'H', 'l', ' ', 'd', 'o', 'e', 'w'}\n"
     ]
    }
   ],
   "source": [
    "print(set(\"Hello world\"))"
   ]
  },
  {
   "cell_type": "code",
   "execution_count": 33,
   "metadata": {},
   "outputs": [
    {
     "data": {
      "text/plain": [
       "{'Adana', 'adana', 'ankara', 'balıkesir', 'istanbul', 'izmir', 'malatya'}"
      ]
     },
     "execution_count": 33,
     "metadata": {},
     "output_type": "execute_result"
    }
   ],
   "source": [
    "set1 = {\"adana\", \"Adana\", \"izmir\", \"ankara\", \"malatya\", \"balıkesir\", \"izmir\", \"istanbul\", \"izmir\"}\n",
    "\n",
    "set1"
   ]
  },
  {
   "cell_type": "markdown",
   "metadata": {},
   "source": [
    "# Type conversion\n",
    "int()\n",
    "str()\n",
    "bool()\n",
    "list()\n",
    "tuple()\n",
    "dict()\n",
    "set()"
   ]
  },
  {
   "cell_type": "markdown",
   "metadata": {},
   "source": [
    "# Union, Intersection, Difference"
   ]
  },
  {
   "cell_type": "code",
   "execution_count": 40,
   "metadata": {},
   "outputs": [
    {
     "data": {
      "text/plain": [
       "{4, 5}"
      ]
     },
     "execution_count": 40,
     "metadata": {},
     "output_type": "execute_result"
    }
   ],
   "source": [
    "# kapsama, kesişim, fark\n",
    "\n",
    "# A birleşim B\n",
    "\n",
    "a = {1, 2, 3}\n",
    "b = {3, 4, 5}\n",
    "\n",
    "# A birleşim B\n",
    "\n",
    "a.union(b)\n",
    "\n",
    "a | b\n",
    "\n",
    "# A kesişim B\n",
    "\n",
    "a.intersection(b)\n",
    "\n",
    "a & b\n",
    "\n",
    "# A fark B\n",
    "\n",
    "a.difference(b)\n",
    "\n",
    "a - b\n",
    "\n",
    "b - a"
   ]
  },
  {
   "cell_type": "code",
   "execution_count": 44,
   "metadata": {},
   "outputs": [
    {
     "ename": "TypeError",
     "evalue": "set.pop() takes no arguments (1 given)",
     "output_type": "error",
     "traceback": [
      "\u001b[1;31m---------------------------------------------------------------------------\u001b[0m",
      "\u001b[1;31mTypeError\u001b[0m                                 Traceback (most recent call last)",
      "Cell \u001b[1;32mIn[44], line 8\u001b[0m\n\u001b[0;32m      2\u001b[0m set2 \u001b[38;5;241m=\u001b[39m \u001b[38;5;28mset\u001b[39m(\u001b[38;5;124m\"\u001b[39m\u001b[38;5;124mBurak\u001b[39m\u001b[38;5;124m\"\u001b[39m)\n\u001b[0;32m      4\u001b[0m \u001b[38;5;66;03m# set1.union(set2) - set1.intersection(set2)\u001b[39;00m\n\u001b[0;32m      5\u001b[0m \n\u001b[0;32m      6\u001b[0m \u001b[38;5;66;03m# set1 ^ set2 \u001b[39;00m\n\u001b[1;32m----> 8\u001b[0m \u001b[43mset2\u001b[49m\u001b[38;5;241;43m.\u001b[39;49m\u001b[43mpop\u001b[49m\u001b[43m(\u001b[49m\u001b[38;5;124;43m\"\u001b[39;49m\u001b[38;5;124;43mr\u001b[39;49m\u001b[38;5;124;43m\"\u001b[39;49m\u001b[43m)\u001b[49m\n",
      "\u001b[1;31mTypeError\u001b[0m: set.pop() takes no arguments (1 given)"
     ]
    }
   ],
   "source": [
    "set1 = set(\"Burcu\")\n",
    "set2 = set(\"Burak\")\n",
    "\n",
    "# set1.union(set2) - set1.intersection(set2)\n",
    "\n",
    "# set1 ^ set2 \n",
    "\n",
    "set2.pop(\"r\")"
   ]
  }
 ],
 "metadata": {
  "kernelspec": {
   "display_name": "Python 3",
   "language": "python",
   "name": "python3"
  },
  "language_info": {
   "codemirror_mode": {
    "name": "ipython",
    "version": 3
   },
   "file_extension": ".py",
   "mimetype": "text/x-python",
   "name": "python",
   "nbconvert_exporter": "python",
   "pygments_lexer": "ipython3",
   "version": "3.12.5"
  }
 },
 "nbformat": 4,
 "nbformat_minor": 2
}
