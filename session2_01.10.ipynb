{
 "cells": [
  {
   "cell_type": "code",
   "execution_count": 6,
   "metadata": {},
   "outputs": [
    {
     "name": "stdout",
     "output_type": "stream",
     "text": [
      "Zorluklar, başarıya giden yolun gizli rehberleridir. \n",
      "      Her engel, seni bir adım daha ileri taşır.\n"
     ]
    }
   ],
   "source": [
    "print(\"\"\"Zorluklar, başarıya giden yolun gizli rehberleridir. \n",
    "      Her engel, seni bir adım daha ileri taşır.\"\"\")"
   ]
  },
  {
   "cell_type": "code",
   "execution_count": 1,
   "metadata": {},
   "outputs": [
    {
     "name": "stdout",
     "output_type": "stream",
     "text": [
      "Techpro Education'a hoşgeldiniz...\n"
     ]
    }
   ],
   "source": [
    "print(\"Techpro Education'a hoşgeldiniz...\")"
   ]
  },
  {
   "cell_type": "code",
   "execution_count": 7,
   "metadata": {},
   "outputs": [
    {
     "data": {
      "text/plain": [
       "'\"Disiplin, arzularınızı hedeflerinizin önüne koymamaktır.\" — Abraham Lincoln'"
      ]
     },
     "execution_count": 7,
     "metadata": {},
     "output_type": "execute_result"
    }
   ],
   "source": [
    "'\"Disiplin, arzularınızı hedeflerinizin önüne koymamaktır.\" — Abraham Lincoln'"
   ]
  },
  {
   "cell_type": "markdown",
   "metadata": {},
   "source": [
    "# başlık1"
   ]
  },
  {
   "cell_type": "markdown",
   "metadata": {},
   "source": [
    "3+9"
   ]
  },
  {
   "cell_type": "code",
   "execution_count": 8,
   "metadata": {},
   "outputs": [
    {
     "data": {
      "text/plain": [
       "12"
      ]
     },
     "execution_count": 8,
     "metadata": {},
     "output_type": "execute_result"
    }
   ],
   "source": [
    "3+9 # pep8 kurallarına uygun değildir. estetik yazma kuralları olarak düşünülebilir. zorunlu olmayan ancak daha okunaklı olması için gerekli olan şyedir.\n"
   ]
  },
  {
   "cell_type": "code",
   "execution_count": 11,
   "metadata": {},
   "outputs": [
    {
     "name": "stdout",
     "output_type": "stream",
     "text": [
      "balikesir şehrinin plaka no'su 10'dir\n"
     ]
    }
   ],
   "source": [
    "city = \"balikesir\"\n",
    "\n",
    "plaka_no = 10 \n",
    "\n",
    "print(f\"{city} şehrinin plaka no'su {plaka_no}'dur.\")"
   ]
  },
  {
   "cell_type": "code",
   "execution_count": 12,
   "metadata": {},
   "outputs": [
    {
     "name": "stdout",
     "output_type": "stream",
     "text": [
      "Istanbul 34\n"
     ]
    }
   ],
   "source": [
    "city= 'balikesir'\n",
    "plaka= 10\n",
    "print(city, plate)"
   ]
  },
  {
   "cell_type": "code",
   "execution_count": 13,
   "metadata": {},
   "outputs": [
    {
     "name": "stdout",
     "output_type": "stream",
     "text": [
      "<class 'float'>\n"
     ]
    }
   ],
   "source": [
    "bread_price = 9.99\n",
    "\n",
    "print(type(bread_price))"
   ]
  },
  {
   "cell_type": "code",
   "execution_count": 14,
   "metadata": {},
   "outputs": [
    {
     "name": "stdout",
     "output_type": "stream",
     "text": [
      "<class 'bool'>\n"
     ]
    }
   ],
   "source": [
    "isRetired = True\n",
    "print(type(isRetired))"
   ]
  },
  {
   "cell_type": "code",
   "execution_count": 19,
   "metadata": {},
   "outputs": [
    {
     "ename": "NameError",
     "evalue": "name 'city_2' is not defined",
     "output_type": "error",
     "traceback": [
      "\u001b[1;31m---------------------------------------------------------------------------\u001b[0m",
      "\u001b[1;31mNameError\u001b[0m                                 Traceback (most recent call last)",
      "Cell \u001b[1;32mIn[19], line 2\u001b[0m\n\u001b[0;32m      1\u001b[0m \u001b[38;5;28;01mdel\u001b[39;00m city_2\n\u001b[1;32m----> 2\u001b[0m \u001b[38;5;28mprint\u001b[39m(\u001b[43mcity_2\u001b[49m)\n",
      "\u001b[1;31mNameError\u001b[0m: name 'city_2' is not defined"
     ]
    }
   ],
   "source": [
    "del city_2\n",
    "print(city_2)"
   ]
  },
  {
   "cell_type": "code",
   "execution_count": 21,
   "metadata": {},
   "outputs": [
    {
     "name": "stdout",
     "output_type": "stream",
     "text": [
      "12\n"
     ]
    }
   ],
   "source": [
    "ahmet = 12\n",
    "\n",
    "print(ahmet)"
   ]
  },
  {
   "cell_type": "code",
   "execution_count": 22,
   "metadata": {},
   "outputs": [
    {
     "name": "stdout",
     "output_type": "stream",
     "text": [
      "USA tURKEY\n"
     ]
    }
   ],
   "source": [
    "country_1, country_2 = \"USA\" , \"tURKEY\"\n",
    "\n",
    "print(country_1, country_2)"
   ]
  },
  {
   "cell_type": "code",
   "execution_count": 23,
   "metadata": {},
   "outputs": [
    {
     "name": "stdout",
     "output_type": "stream",
     "text": [
      "jane\n"
     ]
    }
   ],
   "source": [
    "name_2 = name_3 = \"jane\"\n",
    "\n",
    "print(name_3)\n",
    "\n"
   ]
  },
  {
   "cell_type": "code",
   "execution_count": 27,
   "metadata": {},
   "outputs": [
    {
     "name": "stdout",
     "output_type": "stream",
     "text": [
      "20\n"
     ]
    }
   ],
   "source": [
    "istanbul = izmir = adana = 30\n",
    "\n",
    "ankara = trabzon = bursa = 25\n",
    "\n",
    "van= erzurum = 20\n",
    "\n",
    "print(van)"
   ]
  },
  {
   "cell_type": "code",
   "execution_count": 34,
   "metadata": {},
   "outputs": [
    {
     "name": "stdout",
     "output_type": "stream",
     "text": [
      "deneme ancak buraya kadar hocam\n"
     ]
    }
   ],
   "source": [
    "print(\"deneme \" 'ancak ' \"buraya kadar hocam\")"
   ]
  },
  {
   "cell_type": "code",
   "execution_count": 32,
   "metadata": {},
   "outputs": [
    {
     "name": "stdout",
     "output_type": "stream",
     "text": [
      "dene\n",
      "      me\n"
     ]
    }
   ],
   "source": [
    "print(\"\"\"dene\n",
    "      me\"\"\")"
   ]
  },
  {
   "cell_type": "code",
   "execution_count": 35,
   "metadata": {},
   "outputs": [],
   "source": [
    "# fakat olsa da bu "
   ]
  },
  {
   "cell_type": "code",
   "execution_count": 37,
   "metadata": {},
   "outputs": [],
   "source": [
    "# başlık6"
   ]
  }
 ],
 "metadata": {
  "kernelspec": {
   "display_name": "Python 3",
   "language": "python",
   "name": "python3"
  },
  "language_info": {
   "codemirror_mode": {
    "name": "ipython",
    "version": 3
   },
   "file_extension": ".py",
   "mimetype": "text/x-python",
   "name": "python",
   "nbconvert_exporter": "python",
   "pygments_lexer": "ipython3",
   "version": "3.12.5"
  }
 },
 "nbformat": 4,
 "nbformat_minor": 2
}
