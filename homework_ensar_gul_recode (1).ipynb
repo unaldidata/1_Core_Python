{
 "cells": [
  {
   "cell_type": "code",
   "execution_count": 3,
   "metadata": {},
   "outputs": [
    {
     "name": "stdout",
     "output_type": "stream",
     "text": [
      "Successful\n"
     ]
    }
   ],
   "source": [
    "status_code = input(\"Input the status code.\")\n",
    "\n",
    "if status_code.isnumeric():\n",
    "\n",
    "    status_code = int(status_code)\n",
    "    if status_code == 200:\n",
    "        print(\"Successful\")\n",
    "    elif status_code == 400:\n",
    "        print(\"Bad Request\")\n",
    "    elif status_code == 500:\n",
    "        print(\"Server Error\")\n",
    "    else:\n",
    "        print(\"Oh no! Something went wrong...\")\n",
    "\n",
    "else:\n",
    "    print(\"Please input a correct status code\")"
   ]
  },
  {
   "cell_type": "code",
   "execution_count": null,
   "metadata": {},
   "outputs": [],
   "source": []
  },
  {
   "cell_type": "code",
   "execution_count": 7,
   "metadata": {},
   "outputs": [
    {
     "name": "stdout",
     "output_type": "stream",
     "text": [
      "pro\n"
     ]
    }
   ],
   "source": [
    "user_input = input(\"Input a number\")\n",
    "if user_input.isnumeric():\n",
    "\n",
    "    user_input = int(user_input)\n",
    "    if (user_input % 15) == 0:\n",
    "        print(\"Techpro\")\n",
    "    elif (user_input % 3) == 0:\n",
    "        print(\"Tech\")\n",
    "    elif (user_input % 5) == 0:\n",
    "        print(\"pro\")\n",
    "    else:\n",
    "        print(user_input)  \n",
    "else:\n",
    "    print(\"Please enter the number you want to check, correctly and in numerical format.\")"
   ]
  },
  {
   "cell_type": "code",
   "execution_count": null,
   "metadata": {},
   "outputs": [],
   "source": []
  },
  {
   "cell_type": "code",
   "execution_count": 10,
   "metadata": {},
   "outputs": [
    {
     "name": "stdout",
     "output_type": "stream",
     "text": [
      "Please enter the price you want to verify, correctly and in numerical format.\n"
     ]
    }
   ],
   "source": [
    "total_order_amount = input(\"Please enter the total order amount\")\n",
    "\n",
    "service_fee = 0.05\n",
    "service_fee_2 = 0.1\n",
    "service_fee_3 = 0.15\n",
    "if total_order_amount.isnumeric():\n",
    "\n",
    "    total_order_amount = float(total_order_amount)\n",
    "    if (total_order_amount >= 200):\n",
    "        print(f\"The total amount you need to pay, including the service fee (Exempt from), is {total_order_amount} ₺.\")\n",
    "    elif (100 <= total_order_amount):\n",
    "        print(f\"The total amount you need to pay, including the service fee, is {(total_order_amount * service_fee) + (total_order_amount)} TL\")\n",
    "    elif (50 <= total_order_amount):\n",
    "        print(f\"The total amount you need to pay, including the service fee, is {(total_order_amount * service_fee_2) + (total_order_amount)} TL\")\n",
    "    elif (0 <= total_order_amount):\n",
    "        print(f\"The total amount you need to pay, including the service fee, is {(total_order_amount * service_fee_3) + (total_order_amount)} TL\")\n",
    "    else:\n",
    "        print(\"Please input a correct price.\")\n",
    "else:\n",
    "    print(\"Please enter the price you want to verify, correctly and in numerical format.\")"
   ]
  },
  {
   "cell_type": "code",
   "execution_count": null,
   "metadata": {},
   "outputs": [],
   "source": []
  },
  {
   "cell_type": "code",
   "execution_count": 17,
   "metadata": {},
   "outputs": [
    {
     "name": "stdout",
     "output_type": "stream",
     "text": [
      "You cannot divide a number by zero.\n"
     ]
    }
   ],
   "source": [
    "numeral_1 = input(\"Please enter the first number\")\n",
    "numeral_2 = input(\"Please enter the second number\")\n",
    "operator = input(\"Please enter the operator(add (+), subtract (-), multiply (*), divide (/) )\")\n",
    "\n",
    "if numeral_1.isnumeric() and numeral_2.isnumeric():\n",
    "\n",
    "    numeral_1 = int(numeral_1)\n",
    "    numeral_2 = int(numeral_2)\n",
    "    if operator == \"add\":\n",
    "        print(f\"{numeral_1 + numeral_2}\")\n",
    "    elif operator == \"subtract\":\n",
    "        print(f\"{numeral_1 - numeral_2}\")\n",
    "    elif operator == \"multiply\":\n",
    "        print(f\"{numeral_1 * numeral_2}\")\n",
    "    elif operator == \"divide\":\n",
    "        if (numeral_2) == 0:\n",
    "            print(\"You cannot divide a number by zero.\")\n",
    "        else:\n",
    "            print(numeral_1  / numeral_2 )\n",
    "    else:\n",
    "        print(\"Please select one of the operators.\")\n",
    "else:\n",
    "    print(\"Please input the numbers for calculation, accurately and using only numbers.\")"
   ]
  },
  {
   "cell_type": "code",
   "execution_count": null,
   "metadata": {},
   "outputs": [],
   "source": []
  },
  {
   "cell_type": "code",
   "execution_count": null,
   "metadata": {},
   "outputs": [],
   "source": [
    "### print() yerine result kullanarak sonuç alma :\n",
    "\n",
    "numeral_1 = input(\"Please enter the first number\")\n",
    "numeral_2 = input(\"Please enter the second number\")\n",
    "operator = input(\"Please enter the operator(add (+), subtract (-), multiply (*), divide (/) )\")\n",
    "\n",
    "if numeral_1.isnumeric() and numeral_2.isnumeric():\n",
    "\n",
    "    numeral_1 = int(numeral_1)\n",
    "    numeral_2 =int (numeral_2)\n",
    "\n",
    "    if operator == \"add\":\n",
    "        result = numeral_1 + numeral_2\n",
    "    elif operator == \"subtract\":\n",
    "        result = numeral_1 - numeral_2\n",
    "    elif operator == \"multiply\":\n",
    "        result = numeral_1 * numeral_2\n",
    "    elif operator == \"divide\":\n",
    "        if (numeral_2) == 0:\n",
    "            result =\"You cannot divide a number by zero.\"\n",
    "        else:\n",
    "            result = numeral_1  / numeral_2\n",
    "    else:\n",
    "        result = \"Please select one of the operators.\"\n",
    "else:\n",
    "    result = \"Please input the numbers for calculation, accurately and using only numbers.\"\n",
    "\n",
    "print(result)"
   ]
  }
 ],
 "metadata": {
  "kernelspec": {
   "display_name": "Python 3",
   "language": "python",
   "name": "python3"
  },
  "language_info": {
   "codemirror_mode": {
    "name": "ipython",
    "version": 3
   },
   "file_extension": ".py",
   "mimetype": "text/x-python",
   "name": "python",
   "nbconvert_exporter": "python",
   "pygments_lexer": "ipython3",
   "version": "3.11.9"
  }
 },
 "nbformat": 4,
 "nbformat_minor": 2
}
